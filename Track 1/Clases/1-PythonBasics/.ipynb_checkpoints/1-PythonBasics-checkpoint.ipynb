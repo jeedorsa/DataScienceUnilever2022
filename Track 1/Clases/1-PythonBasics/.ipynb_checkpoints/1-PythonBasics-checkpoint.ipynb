{
 "cells": [
  {
   "cell_type": "markdown",
   "id": "f97220ac",
   "metadata": {
    "slideshow": {
     "slide_type": "slide"
    }
   },
   "source": [
    "<br/>\n",
    "<img src=\"images/cd-logo-blue-600x600.png\" alt=\"\" width=\"130px\" align=\"left\"/>\n",
    "<img src=\"images/cd-logo-blue-600x600.png\" alt=\"\" width=\"130px\" align=\"right\"/>\n",
    "<div align=\"center\">\n",
    "<h2>Bootcamp Data Science Unilever - Módulo 1</h2><br/>\n",
    "<h1>Presentación e Introducción al Curso</h1>\n",
    "<br/><br/>\n",
    "    <b>Instructor Principal:</b> Jesus Eduardo Ortiz jortiz@codingdojo.cl <br/>\n",
    "    <b>Coding Dojo</b>\n",
    "</div>"
   ]
  },
  {
   "cell_type": "code",
   "execution_count": 73,
   "id": "21356368",
   "metadata": {},
   "outputs": [
    {
     "name": "stderr",
     "output_type": "stream",
     "text": [
      "failed to create process.\n",
      "failed to create process.\n"
     ]
    }
   ],
   "source": [
    "!conda install numpy"
   ]
  },
  {
   "cell_type": "markdown",
   "id": "812d1fa2",
   "metadata": {
    "slideshow": {
     "slide_type": "slide"
    }
   },
   "source": [
    "# ¿Qué es Data Science?\n"
   ]
  },
  {
   "cell_type": "markdown",
   "id": "d3e84636",
   "metadata": {
    "slideshow": {
     "slide_type": "fragment"
    }
   },
   "source": [
    "- La ciencia de datos (data science) se denomina al enfoque encargado de extraer información **útil** de los datos.\n",
    "<center>\n",
    "<img src=\"images/data-science-VD.png\" width=\"500px\" align=\"center\" >\n",
    "<sub><sup>Diagrama de Venn del Data Science.  <a href=\"http://drewconway.com/zia/2013/3/26/the-data-science-venn-diagram\">Fuente</a></sup></sub>\n",
    "</center>"
   ]
  },
  {
   "cell_type": "markdown",
   "id": "cf7c1001",
   "metadata": {
    "slideshow": {
     "slide_type": "slide"
    }
   },
   "source": [
    "# Nuestra caja de herramientas"
   ]
  },
  {
   "cell_type": "markdown",
   "id": "f36fcb49",
   "metadata": {
    "slideshow": {
     "slide_type": "fragment"
    }
   },
   "source": [
    "<center>\n",
    "<img src=\"images/tools.png\" width=\"800px\" >\n",
    "</center>"
   ]
  },
  {
   "cell_type": "markdown",
   "id": "cb4d5420",
   "metadata": {
    "slideshow": {
     "slide_type": "slide"
    }
   },
   "source": [
    "# ¿Por qué Python?"
   ]
  },
  {
   "cell_type": "markdown",
   "id": "8d9f6dec",
   "metadata": {
    "slideshow": {
     "slide_type": "fragment"
    }
   },
   "source": [
    "- Lenguaje sencillo de aprender\n",
    "- Popularidad\n",
    "- Gran colección de bibliotecas para Data Science (!)"
   ]
  },
  {
   "cell_type": "markdown",
   "id": "af87b238",
   "metadata": {
    "slideshow": {
     "slide_type": "fragment"
    }
   },
   "source": [
    "<center>\n",
    "    <img src=\"images/stackoverflow.svg\" width=\"900px\" >\n",
    "</center>"
   ]
  },
  {
   "cell_type": "markdown",
   "id": "cf63234c",
   "metadata": {
    "slideshow": {
     "slide_type": "slide"
    }
   },
   "source": [
    "# ¿Por qué Google Colaboratory?"
   ]
  },
  {
   "cell_type": "markdown",
   "id": "3c0bfdec",
   "metadata": {
    "slideshow": {
     "slide_type": "fragment"
    }
   },
   "source": [
    "- Proyecto basado en Jupyter Notebook (sistema ampliamente usado en Data Science)\n",
    "- Permite escribir y ejecutar código Python en el navegador \n",
    "    - Sin configuración requerida\n",
    "    - Acceso gratuito a GPU (Graphic Process Unit)\n",
    "    - Facilidad para compartir (en la nube)\n"
   ]
  },
  {
   "cell_type": "markdown",
   "id": "a4c8169a",
   "metadata": {
    "slideshow": {
     "slide_type": "slide"
    }
   },
   "source": [
    "# ¿Por qué Google Colaboratory?"
   ]
  },
  {
   "cell_type": "markdown",
   "id": "84992d71",
   "metadata": {
    "slideshow": {
     "slide_type": "fragment"
    }
   },
   "source": [
    "<center>\n",
    "    <img src=\"images/colab_note.png\" width=\"900px\" >\n",
    "</center>"
   ]
  },
  {
   "cell_type": "markdown",
   "id": "6c237a2f",
   "metadata": {
    "slideshow": {
     "slide_type": "slide"
    }
   },
   "source": [
    "# Actividad 0: Mi primer notebook Colaboratory"
   ]
  },
  {
   "cell_type": "markdown",
   "id": "71ea9b34",
   "metadata": {
    "slideshow": {
     "slide_type": "fragment"
    }
   },
   "source": [
    "- Siga las instrucciones dadas en la sección \"Cómo configurar y crear un Cuaderno computacional\" de su plataforma Coding Dojo ([url](http://learn.codingdojo.com/m/278/8775/59712))\n",
    "- Una vez aparezca la primera celda, copie el siguiente código Python:\n",
    "```python\n",
    "print(\"Bienvenidos al Bootcamp futuros Data Scientist!\")\n",
    "```\n",
    "Una vez copiado, ejecute dicho código presionando el botón de play o con la combinación \"Ctrl+Enter\" \n",
    "- Si puede visualizar el mismo resultado que el mostrado en la siguiente imagen, ¡felicidades! ya ha creado su primer Notebook Colaboratory (¡y su primer código Python!)"
   ]
  },
  {
   "cell_type": "markdown",
   "id": "1546d327",
   "metadata": {
    "slideshow": {
     "slide_type": "fragment"
    }
   },
   "source": [
    "<center>\n",
    "    <img src=\"images/actividad0.png\" width=\"2000px\" >\n",
    "</center>"
   ]
  },
  {
   "cell_type": "markdown",
   "id": "575c1829",
   "metadata": {
    "slideshow": {
     "slide_type": "slide"
    }
   },
   "source": [
    "# Herramientas alternativas: Anaconda"
   ]
  },
  {
   "cell_type": "markdown",
   "id": "18811975",
   "metadata": {
    "slideshow": {
     "slide_type": "fragment"
    }
   },
   "source": [
    "* Distribución de software Python enfocado al uso en Data Science y Machine Learning\n",
    "* Utiliza el manejador de paquetes **conda** para instalación de bibliotecas Python\n",
    "* Multiplataforma: disponible para Windows, Linux y Mac\n",
    "<img src=\"images/anaconda_logo.png\" width=\"300px\"></img>"
   ]
  },
  {
   "cell_type": "markdown",
   "id": "eceddad5",
   "metadata": {
    "colab_type": "text",
    "id": "74ffU3YYGTFz",
    "slideshow": {
     "slide_type": "slide"
    }
   },
   "source": [
    "# Comentarios\n",
    "- Son segmentos de código ignorados por el intérprete\n",
    "- Sirven para explicar en código\n",
    "- Se escriben a la derecha del caracter `#` o con `'''`"
   ]
  },
  {
   "cell_type": "code",
   "execution_count": null,
   "id": "35bd592b",
   "metadata": {
    "slideshow": {
     "slide_type": "fragment"
    }
   },
   "outputs": [],
   "source": [
    "# Este es un comentario de una sola línea\n",
    "# Esta es la segunda línea de tu comentario\n",
    "\n",
    "''' Esto de acá\n",
    "es un comentario\n",
    "que ocupa varias\n",
    "lineas\n",
    "'''"
   ]
  },
  {
   "cell_type": "markdown",
   "id": "07272b62",
   "metadata": {},
   "source": [
    "# Control de versiones"
   ]
  },
  {
   "cell_type": "markdown",
   "id": "b15a3973",
   "metadata": {},
   "source": [
    "\n",
    "<center>\n",
    "    <img src=\"images/controlcambios.png\" width=\"500px\"></img>\n",
    "<sub><sup>Control de versiones local.  <a href=\"https://git-scm.com/book/es/v2/Inicio---Sobre-el-Control-de-Versiones-Acerca-del-Control-de-Versiones\">Fuente</a></sup></sub>\n",
    "</center>\n",
    "Un control de versiones es un sistema que registra los cambios realizados en un archivo o conjunto de archivos a lo largo del tiempo, de modo que puedas recuperar versiones específicas más adelante."
   ]
  },
  {
   "cell_type": "markdown",
   "id": "543502ef",
   "metadata": {},
   "source": [
    "<center>\n",
    "    <img src=\"images/distributed.png\" width=\"500px\"></img>\n",
    "<sub><sup>Control de versiones distribuido.  <a href=\"https://git-scm.com/book/es/v2/Inicio---Sobre-el-Control-de-Versiones-Acerca-del-Control-de-Versiones\">Fuente</a></sup></sub>\n",
    "</center>\n",
    "Puedes colaborar simultáneamente con diferentes grupos de personas en distintas maneras dentro del mismo proyecto. Esto permite establecer varios flujos de trabajo que no son posibles en sistemas centralizados, como pueden ser los modelos jerárquicos."
   ]
  },
  {
   "cell_type": "markdown",
   "id": "f1259152",
   "metadata": {},
   "source": [
    "# Github\n"
   ]
  },
  {
   "cell_type": "markdown",
   "id": "c96cf57e",
   "metadata": {},
   "source": [
    "<center>\n",
    "    <img src=\"images/GitHub-Logo.png\" width=\"500px\"></img>\n",
    "</center>\n",
    "GitHub es una plataforma de alojamiento de código para el control de versiones y la colaboración. Te permite a ti y a otros trabajar juntos en proyectos desde cualquier lugar. "
   ]
  },
  {
   "cell_type": "markdown",
   "id": "2c0e32c8",
   "metadata": {},
   "source": [
    "# Diferencias entre GitHub y GitLab\n",
    "\n",
    "#### Colaboradores por repositorio\n",
    "\n",
    "Como hemos dicho, desde hace pocas fechas la versión gratuita de GitHub permite crear repositorios privados y gratuitos. Esto es algo que ya ofrecía GitLab. Sin embargo existen diferencias entre ambos servicios. No son muy grandes, pero sí puede hacer que algunos usuarios se decanten por una u otra, según lo que necesiten.\n",
    "\n",
    "Esta diferencia reside en el número máximo de colaboradores por repositorio. GitHub permite crear repositorios privados de manera ilimitada, pero con un máximo de 3 colaboradores. Por su parte GitLab permite también crear repositorios privados ilimitados y gratuitos, pero en esta ocasión no hay límite de colaboradores.\n",
    "\n",
    "##### Tamaño máximo\n",
    "\n",
    "Otra característica importante y que puede hacer que un usuario elija una u otra opción es el tamaño máximo permitido. En el caso de GitHub ofrece hasta 1 GB por repositorio de manera gratuita. Además, cada archivo que subamos al repositorio no debe pasar de 100 MB. En caso de superar estos límites, la plataforma nos avisará.\n",
    "\n",
    "Por parte de GitLab, existen diferencias bastante positivas. Ofrece una mayor capacidad de almacenamiento. El límite por repositorio es de 10 GB, o sea 10 veces mayor que en el caso de GitHub."
   ]
  },
  {
   "cell_type": "markdown",
   "id": "6d3c1f29",
   "metadata": {
    "slideshow": {
     "slide_type": "slide"
    }
   },
   "source": [
    "# Python"
   ]
  },
  {
   "cell_type": "markdown",
   "id": "afd91f04",
   "metadata": {
    "slideshow": {
     "slide_type": "fragment"
    }
   },
   "source": [
    "<img src=\"images/python-logo-inkscape.svg\" width=\"500px\"></img>"
   ]
  },
  {
   "cell_type": "markdown",
   "id": "5050a47a",
   "metadata": {
    "slideshow": {
     "slide_type": "slide"
    }
   },
   "source": [
    "# Variables\n",
    "\n",
    "Una variable permite **almacenar** un valor asignando a un nombre que podrá ser **utilizado posteriormente** en la aplicación."
   ]
  },
  {
   "cell_type": "markdown",
   "id": "bc84b6d7",
   "metadata": {
    "colab_type": "text",
    "id": "TsLuZxnGGTFN",
    "slideshow": {
     "slide_type": "slide"
    }
   },
   "source": [
    "## Asignación a Variables\n",
    "Una asignación de variables tiene la forma: \n",
    "<div align=\"center\">\n",
    "<div style=\"font-size:1.5em\"> &lt;variable&gt; = &lt;expresion&gt;</div>\n",
    "<img src=\"images/asignacion_var.jpg\" width=\"15%\"/>\n",
    "</div>"
   ]
  },
  {
   "cell_type": "markdown",
   "id": "b8483f1e",
   "metadata": {
    "slideshow": {
     "slide_type": "slide"
    }
   },
   "source": [
    "# Variables"
   ]
  },
  {
   "cell_type": "code",
   "execution_count": 2,
   "id": "dd6dbc40",
   "metadata": {
    "slideshow": {
     "slide_type": "slide"
    }
   },
   "outputs": [
    {
     "name": "stdout",
     "output_type": "stream",
     "text": [
      "7\n"
     ]
    }
   ],
   "source": [
    "# Variables\n",
    "x=2 # Esta de acá es la variable x y tiene asignada un valor de 2\n",
    "y=5 # Esta sería la variable y\n",
    "z=x+y # Creamos la variable z y le asignamos el resultado de x + y. z = 7\n",
    "print(z) # Esto muestra por la terminal el valor de la variable z"
   ]
  },
  {
   "cell_type": "markdown",
   "id": "2aeb1318",
   "metadata": {
    "slideshow": {
     "slide_type": "slide"
    }
   },
   "source": [
    "# Variables: Tipos de datos"
   ]
  },
  {
   "cell_type": "markdown",
   "id": "5be18595",
   "metadata": {
    "colab_type": "text",
    "id": "HRf_UcYUGTBy",
    "slideshow": {
     "slide_type": "fragment"
    }
   },
   "source": [
    "## Números enteros\n",
    "Tipo `int` (integer) que representa un subgrupo finito de numeros enteros matemáticos."
   ]
  },
  {
   "cell_type": "code",
   "execution_count": 8,
   "id": "08acfa33",
   "metadata": {
    "slideshow": {
     "slide_type": "fragment"
    }
   },
   "outputs": [],
   "source": [
    "a1 = 10 # Números enteros. Almacena el entero 10 (integer - int)"
   ]
  },
  {
   "cell_type": "code",
   "execution_count": 9,
   "id": "6ad0da89",
   "metadata": {},
   "outputs": [
    {
     "data": {
      "text/plain": [
       "10"
      ]
     },
     "execution_count": 9,
     "metadata": {},
     "output_type": "execute_result"
    }
   ],
   "source": [
    "a1"
   ]
  },
  {
   "cell_type": "code",
   "execution_count": 10,
   "id": "6f00fa00",
   "metadata": {},
   "outputs": [
    {
     "name": "stdout",
     "output_type": "stream",
     "text": [
      "10\n"
     ]
    }
   ],
   "source": [
    "print(a1)"
   ]
  },
  {
   "cell_type": "markdown",
   "id": "8e0e8ac6",
   "metadata": {
    "colab_type": "text",
    "id": "4TO6k9oaGTCi",
    "slideshow": {
     "slide_type": "fragment"
    }
   },
   "source": [
    "## Números Reales\n",
    "Tipo `float` (punto flotante) que representa números en distintas magnitudes en los reales\n",
    "(incluyendo sus decimales)."
   ]
  },
  {
   "cell_type": "code",
   "execution_count": 11,
   "id": "6de03a69",
   "metadata": {
    "slideshow": {
     "slide_type": "fragment"
    }
   },
   "outputs": [],
   "source": [
    "a2 = 15.3 # Números decimales (reales). Almacena el numero flotante 15.3 (flotantes - float)"
   ]
  },
  {
   "cell_type": "code",
   "execution_count": 12,
   "id": "0379354c",
   "metadata": {},
   "outputs": [
    {
     "data": {
      "text/plain": [
       "15.3"
      ]
     },
     "execution_count": 12,
     "metadata": {},
     "output_type": "execute_result"
    }
   ],
   "source": [
    "a2"
   ]
  },
  {
   "cell_type": "markdown",
   "id": "21e887fa",
   "metadata": {
    "slideshow": {
     "slide_type": "slide"
    }
   },
   "source": [
    "# Variables: Tipos de datos"
   ]
  },
  {
   "cell_type": "markdown",
   "id": "5d795c53",
   "metadata": {
    "colab_type": "text",
    "id": "BVwO3sH9GTFl",
    "slideshow": {
     "slide_type": "fragment"
    }
   },
   "source": [
    "## String\n",
    "\n",
    "Tipo `str` (strings) representando cadenas de caracteres."
   ]
  },
  {
   "cell_type": "code",
   "execution_count": 14,
   "id": "c42a55e4",
   "metadata": {
    "slideshow": {
     "slide_type": "fragment"
    }
   },
   "outputs": [],
   "source": [
    "a3 = \"Este es un texto creado con comillas dobles\" # Strings. Almacena el texto indicado (strings - str)\n",
    "a4 = 'Este es un texto creado con comillas simples' # También es un string"
   ]
  },
  {
   "cell_type": "code",
   "execution_count": 46,
   "id": "1f5adc36",
   "metadata": {},
   "outputs": [
    {
     "data": {
      "text/plain": [
       "'Este es un texto creado con comillas dobles'"
      ]
     },
     "execution_count": 46,
     "metadata": {},
     "output_type": "execute_result"
    }
   ],
   "source": [
    "a3"
   ]
  },
  {
   "cell_type": "markdown",
   "id": "675946a3",
   "metadata": {
    "colab_type": "text",
    "id": "_9C9wpsxGTC9",
    "slideshow": {
     "slide_type": "fragment"
    }
   },
   "source": [
    "## Valores Lógicos\n",
    "Tipo `bool` que representa el conjunto de valores de verdad (verdadero o falso)"
   ]
  },
  {
   "cell_type": "code",
   "execution_count": 30,
   "id": "7461b721",
   "metadata": {
    "slideshow": {
     "slide_type": "fragment"
    }
   },
   "outputs": [],
   "source": [
    "a5 = True # Booleanos (valores de verdadero (True) y falso (False)). Almacena valor True. (booleanos - bool)"
   ]
  },
  {
   "cell_type": "code",
   "execution_count": 28,
   "id": "82de9d93",
   "metadata": {},
   "outputs": [
    {
     "data": {
      "text/plain": [
       "False"
      ]
     },
     "execution_count": 28,
     "metadata": {},
     "output_type": "execute_result"
    }
   ],
   "source": [
    "a5"
   ]
  },
  {
   "cell_type": "code",
   "execution_count": 27,
   "id": "9b98719f",
   "metadata": {},
   "outputs": [],
   "source": [
    "a5=False"
   ]
  },
  {
   "cell_type": "markdown",
   "id": "33564724",
   "metadata": {
    "slideshow": {
     "slide_type": "slide"
    }
   },
   "source": [
    "# Variables: Tipos de datos"
   ]
  },
  {
   "cell_type": "markdown",
   "id": "7d934537",
   "metadata": {
    "colab_type": "text",
    "id": "_9C9wpsxGTC9",
    "slideshow": {
     "slide_type": "fragment"
    }
   },
   "source": [
    "## Números Complejos\n",
    "Tipo `complex` que representa el universo de números complejos."
   ]
  },
  {
   "cell_type": "code",
   "execution_count": 31,
   "id": "78e5443e",
   "metadata": {
    "slideshow": {
     "slide_type": "fragment"
    }
   },
   "outputs": [],
   "source": [
    "a6 = 3.3 + 5.1j # Némeros complejos. Estos tiene una parte real y una parte imaginaria (acompañada de una j). (complejos - complex)"
   ]
  },
  {
   "cell_type": "code",
   "execution_count": 32,
   "id": "2cbcb0e4",
   "metadata": {
    "slideshow": {
     "slide_type": "fragment"
    }
   },
   "outputs": [
    {
     "name": "stdout",
     "output_type": "stream",
     "text": [
      "10 15.3 Este es un texto creado con comillas dobles Este es un texto creado con comillas simples True (3.3+5.1j)\n"
     ]
    }
   ],
   "source": [
    "print(a1, a2, a3, a4, a5, a6) # Muestra los datos almacenados en todas las variables por la terminal"
   ]
  },
  {
   "cell_type": "markdown",
   "id": "35f3d74c",
   "metadata": {
    "colab_type": "text",
    "id": "NZuaGPTMGTFY",
    "slideshow": {
     "slide_type": "slide"
    }
   },
   "source": [
    "# Salida de datos: Print"
   ]
  },
  {
   "cell_type": "markdown",
   "id": "7106bffe",
   "metadata": {
    "slideshow": {
     "slide_type": "fragment"
    }
   },
   "source": [
    "Quiero escribir por pantalla: \n",
    "\n",
    "    El valor de la variable a1 es <aquí va el valor de a1> y el valor de a2 es <aquí va el valor de a2>\n",
    "\n",
    "Ej:\n",
    "\n",
    "    El valor de la variable a1 es 10 y el valor de a2 es 15.3"
   ]
  },
  {
   "cell_type": "code",
   "execution_count": 37,
   "id": "748694ca",
   "metadata": {},
   "outputs": [
    {
     "name": "stdout",
     "output_type": "stream",
     "text": [
      "A1 vale: 10 A2 vale: 15.3\n"
     ]
    }
   ],
   "source": [
    "print(\"A1 vale:\",a1,\"A2 vale:\",a2)"
   ]
  },
  {
   "cell_type": "code",
   "execution_count": 38,
   "id": "5c19fbb3",
   "metadata": {},
   "outputs": [
    {
     "name": "stdout",
     "output_type": "stream",
     "text": [
      "A1 vale 10\n"
     ]
    }
   ],
   "source": [
    "print(\"A1 vale \"+str(a1))"
   ]
  },
  {
   "cell_type": "code",
   "execution_count": 40,
   "id": "38a5601f",
   "metadata": {},
   "outputs": [
    {
     "name": "stdout",
     "output_type": "stream",
     "text": [
      "A1 vale 10 15.300000\n"
     ]
    }
   ],
   "source": [
    "print(\"A1 vale %d %f\" %(a1,a2))"
   ]
  },
  {
   "cell_type": "code",
   "execution_count": 42,
   "id": "26def6b9",
   "metadata": {},
   "outputs": [
    {
     "name": "stdout",
     "output_type": "stream",
     "text": [
      "A1 vale 10\n"
     ]
    }
   ],
   "source": [
    "print(f\"A1 vale {a1}\")"
   ]
  },
  {
   "cell_type": "markdown",
   "id": "eb4b462f",
   "metadata": {
    "colab_type": "text",
    "id": "NZuaGPTMGTFY",
    "slideshow": {
     "slide_type": "slide"
    }
   },
   "source": [
    "# Salida de datos: Print"
   ]
  },
  {
   "cell_type": "code",
   "execution_count": 43,
   "id": "823604ab",
   "metadata": {
    "slideshow": {
     "slide_type": "fragment"
    }
   },
   "outputs": [
    {
     "name": "stdout",
     "output_type": "stream",
     "text": [
      "El valor de la variable a1 es 10 y el valor de la variable a2 es 15.3\n",
      "El valor de la variable a1 es 10 y el valor de la variable a2 es 15.3\n",
      "El valor de la variable a1 es 10 y el valor de la variable a2 es 15.300000 \n",
      "El valor de la variable a1 es 10 y el valor de la variable a2 es 15.3\n"
     ]
    }
   ],
   "source": [
    "print(\"El valor de la variable a1 es\", a1, \"y el valor de la variable a2 es\", a2)\n",
    "print(\"El valor de la variable a1 es \" + str(a1) + \" y el valor de la variable a2 es \" + str(a2))\n",
    "print(\"El valor de la variable a1 es %d y el valor de la variable a2 es %f \" % (a1, a2))\n",
    "print(f\"El valor de la variable a1 es {a1} y el valor de la variable a2 es {a2}\")"
   ]
  },
  {
   "cell_type": "markdown",
   "id": "06406b46",
   "metadata": {
    "slideshow": {
     "slide_type": "slide"
    }
   },
   "source": [
    "# Entrada de datos: Input"
   ]
  },
  {
   "cell_type": "markdown",
   "id": "a2419a8d",
   "metadata": {
    "slideshow": {
     "slide_type": "fragment"
    }
   },
   "source": [
    "- Permite al usuario el ingreso de datos por consola"
   ]
  },
  {
   "cell_type": "code",
   "execution_count": 49,
   "id": "b01594ca",
   "metadata": {},
   "outputs": [
    {
     "data": {
      "text/plain": [
       "10"
      ]
     },
     "execution_count": 49,
     "metadata": {},
     "output_type": "execute_result"
    }
   ],
   "source": [
    "a1"
   ]
  },
  {
   "cell_type": "markdown",
   "id": "c40f5181",
   "metadata": {},
   "source": [
    "Aca leemos directamente como entero"
   ]
  },
  {
   "cell_type": "code",
   "execution_count": 52,
   "id": "9ce7b200",
   "metadata": {},
   "outputs": [
    {
     "name": "stdout",
     "output_type": "stream",
     "text": [
      "Hola2\n"
     ]
    }
   ],
   "source": [
    "hola=int(input(\"Hola\"))"
   ]
  },
  {
   "cell_type": "markdown",
   "id": "9f4b5d05",
   "metadata": {},
   "source": [
    "Aca lo leemos como cadena"
   ]
  },
  {
   "cell_type": "code",
   "execution_count": 55,
   "id": "212ff6f5",
   "metadata": {},
   "outputs": [
    {
     "name": "stdout",
     "output_type": "stream",
     "text": [
      "Hola2\n"
     ]
    }
   ],
   "source": [
    "hola=input(\"Hola\")"
   ]
  },
  {
   "cell_type": "code",
   "execution_count": 58,
   "id": "91095037",
   "metadata": {},
   "outputs": [
    {
     "data": {
      "text/plain": [
       "'2'"
      ]
     },
     "execution_count": 58,
     "metadata": {},
     "output_type": "execute_result"
    }
   ],
   "source": [
    "hola"
   ]
  },
  {
   "cell_type": "code",
   "execution_count": 61,
   "id": "97eacabf",
   "metadata": {},
   "outputs": [
    {
     "data": {
      "text/plain": [
       "12"
      ]
     },
     "execution_count": 61,
     "metadata": {},
     "output_type": "execute_result"
    }
   ],
   "source": [
    "f=int(hola)+a1\n",
    "f"
   ]
  },
  {
   "cell_type": "code",
   "execution_count": null,
   "id": "84060cc1",
   "metadata": {
    "slideshow": {
     "slide_type": "fragment"
    }
   },
   "outputs": [],
   "source": [
    "nombre = input(\"Ingrese su nombre\")\n",
    "print(\"Su nombre es\", nombre)"
   ]
  },
  {
   "cell_type": "markdown",
   "id": "b47a62bd",
   "metadata": {},
   "source": [
    "Vamos a hacer una calculadora, primero va a recibir a los numeros a operar (variable1 y variable 2) esos numeros van a ser de tipo entero. Luego mediante un menu, con letras, vamos a seleccionar la operacion que se va a realizar, suma, resta, multiplicacion, division, modulo, porcentaje. (Ejemplo a=suma), al finalizar vamos a mostrar el resultado de la operación.\n"
   ]
  },
  {
   "cell_type": "markdown",
   "id": "bef4559e",
   "metadata": {},
   "source": [
    "Vamos a hacer un programa que calcule volumen y area de elementos geometricos. Ustedes van a determinar los parametros de entrada,y el menu va hacer de minimo 4 figuras geometricas."
   ]
  },
  {
   "cell_type": "code",
   "execution_count": 71,
   "id": "1c1a3cb4",
   "metadata": {},
   "outputs": [
    {
     "name": "stdout",
     "output_type": "stream",
     "text": [
      "Digite variable 1 \n",
      "4\n",
      "Digite variable 2 \n",
      "5\n",
      "Menu de operaciones \n",
      " A. Suma \n",
      " B. Resta \n",
      " C. Multiplicación \n",
      " D. División \n",
      " E. Modulo \n",
      " F. Porcentaje \n",
      "   \n",
      "Digite la operación a realizar A\n",
      "Resultado 9\n"
     ]
    }
   ],
   "source": [
    "var1=int(input(\"Digite variable 1 \\n\"))\n",
    "var2=int(input(\"Digite variable 2 \\n\"))\n",
    "print(\"Menu de operaciones \\n A. Suma \\n B. Resta \\n C. Multiplicación \\n D. División \\n E. Modulo \\n F. Porcentaje \\n   \")\n",
    "ope=input(\"Digite la operación a realizar \").lower()\n",
    "ope=ope.lower()\n",
    "if(ope==\"a\"):\n",
    "    print(f\"Resultado {var1+var2}\")\n",
    "elif(ope==\"b\"):\n",
    "    print(f\"Resultado {var1-var2}\")\n",
    "elif(ope==\"c\"):\n",
    "    print(f\"Resultado {var1*var2}\")\n",
    "elif(ope==\"d\"):\n",
    "    print(f\"Resultado {var1/var2}\")\n",
    "elif(ope==\"e\"):\n",
    "    print(f\"Resultado {var1%var2}\")\n",
    "elif(ope==\"f\"):\n",
    "    print(f\"Resultado {var1*var2/100}\")\n",
    "else:\n",
    "    print(\"Digito una opción no valida\")"
   ]
  },
  {
   "cell_type": "markdown",
   "id": "6e692255",
   "metadata": {
    "slideshow": {
     "slide_type": "slide"
    }
   },
   "source": [
    "# Tipos de datos compuestos: Listas"
   ]
  },
  {
   "cell_type": "markdown",
   "id": "3cc481a8",
   "metadata": {
    "slideshow": {
     "slide_type": "fragment"
    }
   },
   "source": [
    "- Permite el almacenamiento de datos agrupados\n",
    "- Es un tipo de dato **mutable**"
   ]
  },
  {
   "cell_type": "markdown",
   "id": "79d2e9e3",
   "metadata": {
    "slideshow": {
     "slide_type": "slide"
    }
   },
   "source": [
    "# Tipos de datos compuestos: Listas"
   ]
  },
  {
   "cell_type": "code",
   "execution_count": 6,
   "id": "4a56e806",
   "metadata": {
    "slideshow": {
     "slide_type": "fragment"
    }
   },
   "outputs": [
    {
     "name": "stdout",
     "output_type": "stream",
     "text": [
      "2\n",
      "1\n",
      "[1, 2, 3]\n"
     ]
    }
   ],
   "source": [
    "lista1 = [1, 2, 3] # Es una lista cuyos elementos son todos enteros\n",
    "lista2 = [1, 9.5, \"Texto\", [1,4.5, \"prueba\"]]\n",
    "# Para acceder a los elementos de una lista, debes utilizar un índice. Ojo: Este parte en 0\n",
    "print(lista1[1]) # Con el índice 1 estamos accediendo al segundo elemento (porque los índices parten en 0)\n",
    "print(lista2[0])\n",
    "print(lista1) # Esto muestra todos los elementos de la lista1"
   ]
  },
  {
   "cell_type": "code",
   "execution_count": 1,
   "id": "4caf9478",
   "metadata": {},
   "outputs": [],
   "source": [
    "lista3= [7,\"hola\"]"
   ]
  },
  {
   "cell_type": "code",
   "execution_count": 4,
   "id": "23e37c55",
   "metadata": {},
   "outputs": [
    {
     "data": {
      "text/plain": [
       "'h'"
      ]
     },
     "execution_count": 4,
     "metadata": {},
     "output_type": "execute_result"
    }
   ],
   "source": [
    "lista3[1]"
   ]
  },
  {
   "cell_type": "markdown",
   "id": "221680ca",
   "metadata": {
    "slideshow": {
     "slide_type": "slide"
    }
   },
   "source": [
    "# Tipos de datos compuestos: Listas - operaciones"
   ]
  },
  {
   "cell_type": "code",
   "execution_count": 11,
   "id": "37c0c00e",
   "metadata": {
    "scrolled": true,
    "slideshow": {
     "slide_type": "fragment"
    }
   },
   "outputs": [
    {
     "name": "stdout",
     "output_type": "stream",
     "text": [
      "['Primer elemento', 20, 20]\n",
      "prueba\n",
      "['Primer elemento', 20, 20, 20]\n",
      "Primer elemento [20, 20, 20]\n",
      "[3, 5]\n",
      "[1, 2, 3, 4, 5, 6, 7, 8, 9, 10, 11]\n",
      "[1, 2] [10, 11]\n",
      "11\n",
      "6\n"
     ]
    }
   ],
   "source": [
    "# Cómo podemos modificar un elemento de mi lista?\n",
    "# Ejemplo, quiero modificar el primer elemento en lista1 para que, en vez de ser 1, sea \"Primer elemento\"\n",
    "lista1[0] = \"Primer elemento\" # Esto va a reemplazar el valor almacenado en lista1[0] por \"Primer elemento\"\n",
    "print(lista1)\n",
    "# Cómo accedo a los elementos de la lista interna a lista 2?\n",
    "# Ej, quiero acceder al tercer elemento -> \"prueba\"\n",
    "print(lista2[3][2])\n",
    "# Agregar elementos a una lista\n",
    "lista1.append(20)\n",
    "print(lista1)\n",
    "# Queremos ahora quitar ese elemento que agregamos\n",
    "lista_removed = lista1.pop(0)\n",
    "print(lista_removed, lista1)\n",
    "# Puedo acceder a más de un elemento a la vez de mi lista?\n",
    "lista3 = [1,2,3,4,5,6,7,8,9,10,11]\n",
    "print(lista3[2:6:2])\n",
    "# Quiero mostrar el último elemento\n",
    "print(lista3[::]) # Parto en el primer elemento, hasta el último elemento y avanazo de 1 en 1\n",
    "print(lista3[:2],lista3[9:])\n",
    "# Cómo sabemos cuál es el largo de una lista?\n",
    "# Se utiliza la funcion len()\n",
    "print(len(lista3)) # Te indica el largo de la lista\n",
    "print(lista3[int(len(lista3)/2)]) # El elemento del medio es"
   ]
  },
  {
   "cell_type": "markdown",
   "id": "3da01d8b",
   "metadata": {
    "slideshow": {
     "slide_type": "slide"
    }
   },
   "source": [
    "# Tipos de datos compuestos: Tuplas"
   ]
  },
  {
   "cell_type": "markdown",
   "id": "01f56044",
   "metadata": {
    "slideshow": {
     "slide_type": "fragment"
    }
   },
   "source": [
    "- Permite el almacenamiento de datos agrupados.\n",
    "- Parecido a las listas, salvo que es un tipo de dato **inmutable**"
   ]
  },
  {
   "cell_type": "markdown",
   "id": "20fe32ea",
   "metadata": {
    "slideshow": {
     "slide_type": "slide"
    }
   },
   "source": [
    "# Tipos de datos compuestos: Tuplas"
   ]
  },
  {
   "cell_type": "code",
   "execution_count": 23,
   "id": "de3ee3ce",
   "metadata": {
    "slideshow": {
     "slide_type": "fragment"
    }
   },
   "outputs": [
    {
     "data": {
      "text/plain": [
       "(1, [2, 3, 4], 4)"
      ]
     },
     "execution_count": 23,
     "metadata": {},
     "output_type": "execute_result"
    }
   ],
   "source": [
    "tupla1 = ( 1, [2, 3], 4) # Esta es una tupla de elementos enter\n",
    "tupla1[1].append(4)\n",
    "tupla1"
   ]
  },
  {
   "cell_type": "markdown",
   "id": "5dd176aa",
   "metadata": {},
   "source": [
    "Las listas creamos []\n",
    "Las tuplas creamos ()"
   ]
  },
  {
   "cell_type": "markdown",
   "id": "734f387c",
   "metadata": {},
   "source": [
    "### EJERCICIO 1\n",
    "Escribir un programa que almacene las asignaturas de un curso (por ejemplo Matemáticas, Física, Química, Historia y Lengua) en una lista y la muestre por pantalla el mensaje Yo estudio <asignatura>, donde <asignatura> es cada una de las asignaturas de la lista."
   ]
  },
  {
   "cell_type": "markdown",
   "id": "a3edcbe7",
   "metadata": {},
   "source": [
    "###### EJERCICIO 2\n",
    "Escribir un programa que almacene las asignaturas de un curso (6 asignaturas) en una lista, pregunte al usuario la nota que ha sacado en cada asignatura, y después las muestre por pantalla con el mensaje En <asignatura> has sacado <nota> donde <asignatura> es cada una des las asignaturas de la lista y <nota> cada una de las correspondientes notas introducidas por el usuario."
   ]
  },
  {
   "cell_type": "markdown",
   "id": "edb1bb75",
   "metadata": {},
   "source": [
    "### EJERCICIO 3\n",
    "Crear una contraseña de 4 digitos que no pueda ser cambiada, preguntar al usuario si es valida, decir contraseña ok, si no mostrar contraseña erronea."
   ]
  },
  {
   "cell_type": "markdown",
   "id": "c37c7fc1",
   "metadata": {
    "slideshow": {
     "slide_type": "slide"
    }
   },
   "source": [
    "# Tipos de datos compuestos: Tuplas - operaciones"
   ]
  },
  {
   "cell_type": "code",
   "execution_count": null,
   "id": "cf453658",
   "metadata": {
    "slideshow": {
     "slide_type": "fragment"
    }
   },
   "outputs": [],
   "source": [
    "# La diferencia entre tuplas y listas es que los elementos de una tupla no se pueden modificar\n",
    "# tupla1[2] = 5 # Esto lanza error\n",
    "tupla2 = (1, \"hola\", [1,2,3])- Permite el almacenamiento de datos agrupados.\n",
    "- Parecido a las listas, salvo que es un tipo de dato **inmutable**\n",
    "print(tupla2)\n",
    "tupla2[2][1] = 10\n",
    "print(tupla2)\n",
    "#tupla2[2] = \"Este es un texto\" # Esto va a lanzar error\n",
    "tupla3 = tupla2[:2]\n",
    "print(tupla3)\n"
   ]
  },
  {
   "cell_type": "markdown",
   "id": "71062690",
   "metadata": {
    "slideshow": {
     "slide_type": "slide"
    }
   },
   "source": [
    "# Tipos de datos compuestos: Diccionarios"
   ]
  },
  {
   "cell_type": "markdown",
   "id": "97957230",
   "metadata": {
    "slideshow": {
     "slide_type": "fragment"
    }
   },
   "source": [
    "- Permite el almacenamiento de datos agrupados.\n",
    "- A diferencia de las listas o tuplas, este permite el acceso a sus elementos a través de **llaves**.\n",
    "- Los elementos almacenados son **mutables**, sin embargo, las llaves son elementos **inmutables**."
   ]
  },
  {
   "cell_type": "markdown",
   "id": "ec0cc983",
   "metadata": {
    "slideshow": {
     "slide_type": "slide"
    }
   },
   "source": [
    "# Tipos de datos compuestos: Diccionarios"
   ]
  },
  {
   "cell_type": "code",
   "execution_count": null,
   "id": "34f84148",
   "metadata": {},
   "outputs": [],
   "source": [
    "Listas  []\n",
    "Tupls   ()\n",
    "Diccion {}"
   ]
  },
  {
   "cell_type": "code",
   "execution_count": null,
   "id": "528d32a1",
   "metadata": {
    "slideshow": {
     "slide_type": "fragment"
    }
   },
   "outputs": [],
   "source": [
    "dict1 = {\n",
    "    0: \"Texto para indice 0\",\n",
    "    \"llave1\": \"Texto para la llave llave1\",\n",
    "    (1,2,3): \"Texto para la llave tupla (1,2,3)\"\n",
    "}"
   ]
  },
  {
   "cell_type": "markdown",
   "id": "7edc5fd3",
   "metadata": {
    "slideshow": {
     "slide_type": "slide"
    }
   },
   "source": [
    "# Tipos de datos compuestos: Diccionarios - operaciones"
   ]
  },
  {
   "cell_type": "code",
   "execution_count": 24,
   "id": "ed7a82be",
   "metadata": {
    "slideshow": {
     "slide_type": "fragment"
    }
   },
   "outputs": [
    {
     "name": "stdout",
     "output_type": "stream",
     "text": [
      "Texto para indice 0\n",
      "Texto para la llave llave1\n",
      "Texto para la llave tupla (1,2,3)\n",
      "1.76\n"
     ]
    }
   ],
   "source": [
    "\n",
    "dict1 = {\n",
    "    0: \"Texto para indice 0\",\n",
    "    \"llave1\": \"Texto para la llave llave1\",\n",
    "    (1,2,3): \"Texto para la llave tupla (1,2,3)\"\n",
    "}\n",
    "\n",
    "print(dict1[0]) # Estoy mostrando el contenido asociado a la llave 0 dentro de dict1\n",
    "print(dict1[\"llave1\"]) # Estoy mostrando el contenido asociado a la llave \"llave1\" dentro de dict1\n",
    "print(dict1[(1,2,3)]) # Estoy mostrando el contenido asociado a la llave (1,2,3) dentro de dict1\n",
    "\n",
    "personas = {\n",
    "    'Pedro': {\"edad\":30, \"estatura\":1.76, \"rut\":'11111111-1'},\n",
    "    'Juan': {\"edad\":28, \"estatura\":1.92, \"rut\":'22222222-2'},\n",
    "    'Maria': [41, 1.68, '33333333-3']\n",
    "}\n",
    "print(personas['Pedro']['estatura'])\n"
   ]
  },
  {
   "cell_type": "code",
   "execution_count": 27,
   "id": "c21d6c7b",
   "metadata": {},
   "outputs": [
    {
     "name": "stdout",
     "output_type": "stream",
     "text": [
      "1.68\n"
     ]
    }
   ],
   "source": [
    "print(personas['Maria'][1])"
   ]
  },
  {
   "cell_type": "markdown",
   "id": "e4b60ccf",
   "metadata": {
    "slideshow": {
     "slide_type": "slide"
    }
   },
   "source": [
    "# Determinando un tipo de dato: type()"
   ]
  },
  {
   "cell_type": "markdown",
   "id": "e97c9550",
   "metadata": {
    "slideshow": {
     "slide_type": "fragment"
    }
   },
   "source": [
    "- Se puede determinar el tipo de dato de una variable/dato utilizando la función type()"
   ]
  },
  {
   "cell_type": "code",
   "execution_count": 31,
   "id": "a06f07db",
   "metadata": {
    "slideshow": {
     "slide_type": "fragment"
    }
   },
   "outputs": [
    {
     "name": "stdout",
     "output_type": "stream",
     "text": [
      "<class 'int'>\n",
      "<class 'float'>\n",
      "<class 'list'>\n",
      "<class 'tuple'>\n",
      "<class 'dict'>\n"
     ]
    }
   ],
   "source": [
    "a1 = 53 # Esta variable es de tipo entero porque se le asigno un entero (53)\n",
    "print(type(a1)) # type() Retorna cual es el tipo de dato asociado con la variable a1 para este ejemplo\n",
    "a1 = 13.1\n",
    "print(type(a1))\n",
    "a1= [1,2]\n",
    "print(type(a1))\n",
    "a1= (3,4)\n",
    "print(type(a1))\n",
    "a1={1:1}\n",
    "print(type(a1))"
   ]
  },
  {
   "cell_type": "markdown",
   "id": "6eb6a931",
   "metadata": {
    "slideshow": {
     "slide_type": "slide"
    }
   },
   "source": [
    "# Estructuras de Control\n",
    "\n",
    "* En Python la ejecución es tı́picamente secuencial, implı́citamente definida por el orden de definición de sentencias. Para alterar esta secuencia, normalmente dos tipos de sentencias de control:\n",
    "    - Selección Condicional: múltiples alternativas de ejecución, controladas por una condición.\n",
    "    - Selección Iterativa o Cíclica: Ejecución repetitiva de un grupo de sentencias, también controladas por una condición."
   ]
  },
  {
   "cell_type": "markdown",
   "id": "4586009a",
   "metadata": {
    "colab_type": "text",
    "id": "DZh9ZgNdJFNO",
    "slideshow": {
     "slide_type": "slide"
    }
   },
   "source": [
    "# Estructura Condicional: `if`"
   ]
  },
  {
   "cell_type": "markdown",
   "id": "86621028",
   "metadata": {
    "slideshow": {
     "slide_type": "fragment"
    }
   },
   "source": [
    "* La instrucción `if` depende de un conjunto de condiciones, que son evaluadas en orden. La primera que sea verdadera determina qué instrucciones son ejecutadas.\n",
    "* Presenta las variantes: `if`, `if-else`, `if-elif` y `if-elif-else`"
   ]
  },
  {
   "cell_type": "markdown",
   "id": "99a33dc2",
   "metadata": {
    "colab_type": "text",
    "id": "DZh9ZgNdJFNO",
    "slideshow": {
     "slide_type": "slide"
    }
   },
   "source": [
    "# Estructura Condicional: `if`"
   ]
  },
  {
   "cell_type": "markdown",
   "id": "f8e09ed3",
   "metadata": {
    "colab_type": "text",
    "id": "xFlehc_SJFNQ",
    "slideshow": {
     "slide_type": "fragment"
    }
   },
   "source": [
    "**Sintaxis:**\n",
    "```python\n",
    "if <cond1>: #obligatoria\n",
    "    sentencias a ejecutar si <cond1> es verdadera\n",
    "elif <cond2>: #opcional\n",
    "    sentencias a ejecutar si <cond2> es verdadera\n",
    "elif <cond3>: #opcional\n",
    "    sentencias a ejecutar si <cond3> es verdadera\n",
    "...\n",
    "else: #opcional\n",
    "    sentencias cuando ninguna condicion anterior es verdadera\n",
    "```\n",
    "\n",
    "La ***Indentación*** después de cada instrucción indica que cosas se realizarán si se cumple su respectiva condición (consecuentemente, si **no** se cumplen las condiciones anteriores). Se utiliza el **caracter de tabulación** (TAB, Tab, ↹)."
   ]
  },
  {
   "cell_type": "markdown",
   "id": "e0948be0",
   "metadata": {
    "colab_type": "text",
    "id": "DZh9ZgNdJFNO",
    "slideshow": {
     "slide_type": "slide"
    }
   },
   "source": [
    "# Estructura Condicional: `if`"
   ]
  },
  {
   "cell_type": "code",
   "execution_count": null,
   "id": "7b52da65",
   "metadata": {
    "slideshow": {
     "slide_type": "fragment"
    }
   },
   "outputs": [],
   "source": [
    "x = 11\n",
    "\n",
    "if x < 4:\n",
    "    print(\"El valor de x es menor que 4\")\n",
    "    print(\"Esta linea si se encuentra en el if\")\n",
    "elif x>1 and x<15: # elif es un else acompañado de un if abreviado\n",
    "    print(\"El valor de x es menor que 8\")\n",
    "elif x < 20: # Si no se cumplió la condición anterior, pregunto por esta nueva condición\n",
    "    print(\"El valor de x es menor que 20\") \n",
    "else: \n",
    "    print(\"El valor de x no cumple ninguna de las condiciones\")\n",
    "\n",
    "if x < 4:\n",
    "    print(\"El valor de x es menor que 4\")\n",
    "    print(\"Esta linea si se encuentra en el if\")\n",
    "if x>1 and x<15: # elif es un else acompañado de un if abreviado\n",
    "    print(\"El valor de x es menor que 8\")\n",
    "if x < 20: # Si no se cumplio la condición anterior, pregunto por esta nueva condicion\n",
    "    print(\"El valor de x es menor que 20\") "
   ]
  },
  {
   "cell_type": "markdown",
   "id": "05e8739e",
   "metadata": {
    "slideshow": {
     "slide_type": "slide"
    }
   },
   "source": [
    "# Estructura de Control: ```for```"
   ]
  },
  {
   "cell_type": "markdown",
   "id": "466ef6c1",
   "metadata": {
    "slideshow": {
     "slide_type": "fragment"
    }
   },
   "source": [
    "- Repite sentencias, i.e., itera; una cantidad **fija** de veces.\n",
    "- Funciona sobre tipos de datos **iterables**, vale decir, **secuencias**."
   ]
  },
  {
   "cell_type": "markdown",
   "id": "e54000c7",
   "metadata": {
    "slideshow": {
     "slide_type": "slide"
    }
   },
   "source": [
    "# Estructura de Control: ```for```"
   ]
  },
  {
   "cell_type": "markdown",
   "id": "8a0c7dda",
   "metadata": {
    "slideshow": {
     "slide_type": "fragment"
    }
   },
   "source": [
    "**Sintáxis**\n",
    "\n",
    "```Python\n",
    "for variable in secuencia:\n",
    "    #instrucciones\n",
    "```\n",
    "\n",
    "- Cada vez que se utiliza un ciclo for, se define una variable que va a tomar cada uno de los valores de `secuencia`.\n",
    "- `secuencia` debe ser un tipo de dato **iterable**."
   ]
  },
  {
   "cell_type": "markdown",
   "id": "933d6309",
   "metadata": {
    "slideshow": {
     "slide_type": "slide"
    }
   },
   "source": [
    "# Estructura de Control: ```for```"
   ]
  },
  {
   "cell_type": "code",
   "execution_count": null,
   "id": "03983b60",
   "metadata": {
    "slideshow": {
     "slide_type": "fragment"
    }
   },
   "outputs": [],
   "source": [
    "lista5 = [4,2,8,6,3,4]\n",
    "\n",
    "for i in lista5: # Por cada elemento i pertenciente a la lista5, hago algo\n",
    "    print(\"Estoy iterando\")\n",
    "    print(i)\n",
    "\n",
    "# Otra forma de usar el for\n",
    "for i in range(0,len(lista5)):\n",
    "    print(f\"El valor del elemento {i} en lista5 es\", lista5[i])\n"
   ]
  },
  {
   "cell_type": "markdown",
   "id": "cc309979",
   "metadata": {
    "colab_type": "text",
    "id": "8F0jSoc0JFN1",
    "slideshow": {
     "slide_type": "slide"
    }
   },
   "source": [
    "# Estructura de Control: ```while```\n",
    "\n",
    "La instrucción `while` ejecuta una secuencia de instrucciones mientras una condición sea verdadera. "
   ]
  },
  {
   "cell_type": "markdown",
   "id": "294d43af",
   "metadata": {
    "slideshow": {
     "slide_type": "fragment"
    }
   },
   "source": [
    "**Sintáxis:**\n",
    "```python\n",
    "while <condición>: #obligatorio\n",
    "    # sentencias mientras la <condición> sea verdadera\n",
    "```"
   ]
  },
  {
   "cell_type": "markdown",
   "id": "8a3f3152",
   "metadata": {
    "colab_type": "text",
    "id": "8F0jSoc0JFN1",
    "slideshow": {
     "slide_type": "slide"
    }
   },
   "source": [
    "# Estructura de Control: ```while```\n",
    "\n",
    "La instrucción `while` ejecuta una secuencia de instrucciones mientras una condición sea verdadera. "
   ]
  },
  {
   "cell_type": "code",
   "execution_count": null,
   "id": "8aec292b",
   "metadata": {
    "slideshow": {
     "slide_type": "fragment"
    }
   },
   "outputs": [],
   "source": [
    "k=1\n",
    "while k<10:\n",
    "    if k%3 == 0: # Todos los números cuyo resto al dividirse por 3 sea cero, son múltiplos de 3\n",
    "        k+=1\n",
    "        print(\"Encontré un múltiplo de 3\")\n",
    "        continue\n",
    "\n",
    "    if k%4 == 0:\n",
    "        print(\"Encontré un múltiplo de 4\")\n",
    "        break\n",
    "    \n",
    "    print(\"El valor de k es:\", k)\n",
    "    k +=1\n",
    "print(\"Terminé la ejecución del while\")"
   ]
  },
  {
   "cell_type": "markdown",
   "id": "1a5aa33d",
   "metadata": {
    "slideshow": {
     "slide_type": "slide"
    }
   },
   "source": [
    "# Actividad 1"
   ]
  },
  {
   "cell_type": "markdown",
   "id": "126db141",
   "metadata": {
    "slideshow": {
     "slide_type": "fragment"
    }
   },
   "source": [
    "- Cree una aplicación Python que entregue ciertas caracterı́sticas de un número solicitado. Para\n",
    "esto, el programa deberá realizar las siguientes tareas:\n",
    "    1. Solicitar al usuario un número entero positivo perteneciente al rango [2,1000]. Su programa\n",
    "    debe verificar esta condición. En caso contrario, se debe pedir otro número hasta que se\n",
    "    cumpla la condición.\n",
    "    2. Indicar las siguientes caracterı́sticas del número solicitado:\n",
    "    - ¿Es un número par o impar?\n",
    "    - ¿Es un número primo?\n",
    "    - ¿Cuál es el conjunto de divisores del número? (Se dice que y es divisor de x si el resultado de x ÷ y es un número entero).\n",
    "    3. Una vez indicada las caracterı́sticas del número, el programa debe finalizar.\n",
    "Ejemplo de funcionamiento:\n",
    "\n",
    "```console\n",
    "\n",
    "Ingrese un número: 6\n",
    "Número par\n",
    "No es un número primo\n",
    "Conjunto de divisores:\n",
    "1\n",
    "2\n",
    "3\n",
    "6\n",
    "```"
   ]
  }
 ],
 "metadata": {
  "celltoolbar": "Slideshow",
  "kernelspec": {
   "display_name": "Python 3",
   "language": "python",
   "name": "python3"
  },
  "language_info": {
   "codemirror_mode": {
    "name": "ipython",
    "version": 3
   },
   "file_extension": ".py",
   "mimetype": "text/x-python",
   "name": "python",
   "nbconvert_exporter": "python",
   "pygments_lexer": "ipython3",
   "version": "3.6.12"
  }
 },
 "nbformat": 4,
 "nbformat_minor": 5
}
