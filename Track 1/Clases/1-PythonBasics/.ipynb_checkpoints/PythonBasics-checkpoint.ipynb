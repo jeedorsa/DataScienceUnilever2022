{
 "cells": [
  {
   "cell_type": "markdown",
   "id": "ed8fa137",
   "metadata": {
    "slideshow": {
     "slide_type": "slide"
    }
   },
   "source": [
    "<br/>\n",
    "<img src=\"images/cd-logo-blue-600x600.png\" alt=\"\" width=\"130px\" align=\"left\"/>\n",
    "<img src=\"images/cd-logo-blue-600x600.png\" alt=\"\" width=\"130px\" align=\"right\"/>\n",
    "<div align=\"center\">\n",
    "<h2>Bootcamp Data Science - Módulo 1</h2><br/>\n",
    "<h1>Presentación e Introducción al Curso</h1>\n",
    "<br/><br/>\n",
    "    <b>Instructor Principal:</b> Patricio Olivares polivares@codingdojo.cl <br/>\n",
    "    <b>Instructor Ayudante:</b> Jesús Ortiz jortiz@codingdojo.cl<br/><br/>\n",
    "    <b>Coding Dojo</b>\n",
    "</div>"
   ]
  },
  {
   "cell_type": "markdown",
   "id": "125a4c10",
   "metadata": {
    "slideshow": {
     "slide_type": "slide"
    }
   },
   "source": [
    "# ¿Qué es Data Science?\n"
   ]
  },
  {
   "cell_type": "markdown",
   "id": "85d9d7da",
   "metadata": {
    "slideshow": {
     "slide_type": "fragment"
    }
   },
   "source": [
    "- La ciencia de datos (data science) se denomina al enfoque encargado de extraer información **útil** de los datos.\n",
    "<center>\n",
    "<img src=\"images/data-science-VD.png\" width=\"500px\" align=\"center\" >\n",
    "<sub><sup>Diagrama de Venn del Data Science.  <a href=\"http://drewconway.com/zia/2013/3/26/the-data-science-venn-diagram\">Fuente</a></sup></sub>\n",
    "</center>"
   ]
  },
  {
   "cell_type": "markdown",
   "id": "de31985b",
   "metadata": {
    "slideshow": {
     "slide_type": "slide"
    }
   },
   "source": [
    "# Nuestra caja de herramientas"
   ]
  },
  {
   "cell_type": "markdown",
   "id": "e714ecdd",
   "metadata": {
    "slideshow": {
     "slide_type": "fragment"
    }
   },
   "source": [
    "<center>\n",
    "<img src=\"images/tools.png\" width=\"800px\" >\n",
    "</center>"
   ]
  },
  {
   "cell_type": "markdown",
   "id": "e7aca8de",
   "metadata": {
    "slideshow": {
     "slide_type": "slide"
    }
   },
   "source": [
    "# ¿Por qué Python?"
   ]
  },
  {
   "cell_type": "markdown",
   "id": "a0c6bfd2",
   "metadata": {
    "slideshow": {
     "slide_type": "fragment"
    }
   },
   "source": [
    "- Lenguaje sencillo de aprender\n",
    "- Popularidad\n",
    "- Gran colección de bibliotecas para Data Science (!)"
   ]
  },
  {
   "cell_type": "markdown",
   "id": "4eca1fa9",
   "metadata": {
    "slideshow": {
     "slide_type": "fragment"
    }
   },
   "source": [
    "<center>\n",
    "    <img src=\"images/stackoverflow.svg\" width=\"900px\" >\n",
    "</center>"
   ]
  },
  {
   "cell_type": "markdown",
   "id": "ba015ef1",
   "metadata": {
    "slideshow": {
     "slide_type": "slide"
    }
   },
   "source": [
    "# ¿Por qué Google Colaboratory?"
   ]
  },
  {
   "cell_type": "markdown",
   "id": "3281a582",
   "metadata": {
    "slideshow": {
     "slide_type": "fragment"
    }
   },
   "source": [
    "- Proyecto basado en Jupyter Notebook (sistema ampliamente usado en Data Science)\n",
    "- Permite escribir y ejecutar código Python en el navegador \n",
    "    - Sin configuración requerida\n",
    "    - Acceso gratuito a GPU (Graphic Process Unit)\n",
    "    - Facilidad para compartir (en la nube)\n"
   ]
  },
  {
   "cell_type": "markdown",
   "id": "9a4d0390",
   "metadata": {
    "slideshow": {
     "slide_type": "slide"
    }
   },
   "source": [
    "# ¿Por qué Google Colaboratory?"
   ]
  },
  {
   "cell_type": "markdown",
   "id": "1847e74e",
   "metadata": {
    "slideshow": {
     "slide_type": "fragment"
    }
   },
   "source": [
    "<center>\n",
    "    <img src=\"images/colab_note.png\" width=\"900px\" >\n",
    "</center>"
   ]
  },
  {
   "cell_type": "markdown",
   "id": "00a86e44",
   "metadata": {
    "slideshow": {
     "slide_type": "slide"
    }
   },
   "source": [
    "# Actividad 0: Mi primer notebook Colaboratory"
   ]
  },
  {
   "cell_type": "markdown",
   "id": "d8a7898a",
   "metadata": {
    "slideshow": {
     "slide_type": "fragment"
    }
   },
   "source": [
    "- Siga las instrucciones dadas en la sección \"Cómo configurar y crear un Cuaderno computacional\" de su plataforma Coding Dojo ([url](http://learn.codingdojo.com/m/278/8775/59712))\n",
    "- Una vez aparezca la primera celda, copie el siguiente código Python:\n",
    "```python\n",
    "print(\"Bienvenidos al Bootcamp futuros Data Scientist!\")\n",
    "```\n",
    "Una vez copiado, ejecute dicho código presionando el botón de play o con la combinación \"Ctrl+Enter\" \n",
    "- Si puede visualizar el mismo resultado que el mostrado en la siguiente imagen, ¡felicidades! ya ha creado su primer Notebook Colaboratory (¡y su primer código Python!)"
   ]
  },
  {
   "cell_type": "markdown",
   "id": "1ab141ae",
   "metadata": {
    "slideshow": {
     "slide_type": "fragment"
    }
   },
   "source": [
    "<center>\n",
    "    <img src=\"images/actividad0.png\" width=\"2000px\" >\n",
    "</center>"
   ]
  },
  {
   "cell_type": "markdown",
   "id": "8c599124",
   "metadata": {
    "slideshow": {
     "slide_type": "slide"
    }
   },
   "source": [
    "# Herramientas alternativas: Anaconda"
   ]
  },
  {
   "cell_type": "markdown",
   "id": "40e2acd5",
   "metadata": {
    "slideshow": {
     "slide_type": "fragment"
    }
   },
   "source": [
    "* Distribución de software Python enfocado al uso en Data Science y Machine Learning\n",
    "* Utiliza el manejador de paquetes **conda** para instalación de bibliotecas Python\n",
    "* Multiplataforma: disponible para Windows, Linux y Mac\n",
    "<img src=\"images/anaconda_logo.png\" width=\"300px\"></img>"
   ]
  },
  {
   "cell_type": "markdown",
   "id": "29602ddb",
   "metadata": {
    "slideshow": {
     "slide_type": "slide"
    }
   },
   "source": [
    "# Python"
   ]
  },
  {
   "cell_type": "markdown",
   "id": "df465589",
   "metadata": {
    "slideshow": {
     "slide_type": "fragment"
    }
   },
   "source": [
    "<img src=\"images/python-logo-inkscape.svg\" width=\"500px\"></img>"
   ]
  },
  {
   "cell_type": "markdown",
   "id": "f4168409",
   "metadata": {
    "colab_type": "text",
    "id": "74ffU3YYGTFz",
    "slideshow": {
     "slide_type": "slide"
    }
   },
   "source": [
    "# Comentarios\n",
    "- Son segmentos de código ignorados por el intérprete\n",
    "- Sirven para explicar en código\n",
    "- Se escriben a la derecha del caracter `#` o con `'''`"
   ]
  },
  {
   "cell_type": "code",
   "execution_count": null,
   "id": "64a2f462",
   "metadata": {
    "slideshow": {
     "slide_type": "fragment"
    }
   },
   "outputs": [],
   "source": [
    "# Este es un comentario de una sola línea\n",
    "# Esta es la segunda línea de tu comentario\n",
    "\n",
    "''' Esto de acá\n",
    "es un comentario\n",
    "que ocupa varias\n",
    "lineas\n",
    "'''"
   ]
  },
  {
   "cell_type": "markdown",
   "id": "aaf9f3d0",
   "metadata": {
    "slideshow": {
     "slide_type": "slide"
    }
   },
   "source": [
    "# Variables\n",
    "\n",
    "Una variable permite **almacenar** un valor asignando a un nombre que podrá ser **utilizado posteriormente** en la aplicación."
   ]
  },
  {
   "cell_type": "markdown",
   "id": "f763224a",
   "metadata": {
    "colab_type": "text",
    "id": "TsLuZxnGGTFN",
    "slideshow": {
     "slide_type": "slide"
    }
   },
   "source": [
    "## Asignación a Variables\n",
    "Una asignación de variables tiene la forma: \n",
    "<div align=\"center\">\n",
    "<div style=\"font-size:1.5em\"> &lt;variable&gt; = &lt;expresion&gt;</div>\n",
    "<img src=\"images/asignacion_var.jpg\" width=\"15%\"/>\n",
    "</div>"
   ]
  },
  {
   "cell_type": "markdown",
   "id": "6a8800ce",
   "metadata": {
    "slideshow": {
     "slide_type": "slide"
    }
   },
   "source": [
    "# Variables"
   ]
  },
  {
   "cell_type": "code",
   "execution_count": null,
   "id": "2007b1d6",
   "metadata": {
    "slideshow": {
     "slide_type": "slide"
    }
   },
   "outputs": [],
   "source": [
    "# Variables\n",
    "x=2 # Esta de acá es la variable x y tiene asignada un valor de 2\n",
    "y=5 # Esta sería la variable y\n",
    "z=x+y # Creamos la variable z y le asignamos el resultado de x + y. z = 7\n",
    "print(z) # Esto muestra por la terminal el valor de la variable z"
   ]
  },
  {
   "cell_type": "markdown",
   "id": "c4ce97ef",
   "metadata": {
    "slideshow": {
     "slide_type": "slide"
    }
   },
   "source": [
    "# Variables: Tipos de datos"
   ]
  },
  {
   "cell_type": "markdown",
   "id": "c25bd1a2",
   "metadata": {
    "colab_type": "text",
    "id": "HRf_UcYUGTBy",
    "slideshow": {
     "slide_type": "fragment"
    }
   },
   "source": [
    "## Números enteros\n",
    "Tipo `int` (integer) que representa un subgrupo finito de numeros enteros matemáticos."
   ]
  },
  {
   "cell_type": "code",
   "execution_count": null,
   "id": "97e45edb",
   "metadata": {
    "slideshow": {
     "slide_type": "fragment"
    }
   },
   "outputs": [],
   "source": [
    "a1 = 10 # Números enteros. Almacena el entero 10 (integer - int)"
   ]
  },
  {
   "cell_type": "markdown",
   "id": "8497cb10",
   "metadata": {
    "colab_type": "text",
    "id": "4TO6k9oaGTCi",
    "slideshow": {
     "slide_type": "fragment"
    }
   },
   "source": [
    "## Números Reales\n",
    "Tipo `float` (punto flotante) que representa números en distintas magnitudes en los reales\n",
    "(incluyendo sus decimales)."
   ]
  },
  {
   "cell_type": "code",
   "execution_count": null,
   "id": "93bbb9f7",
   "metadata": {
    "slideshow": {
     "slide_type": "fragment"
    }
   },
   "outputs": [],
   "source": [
    "a2 = 15.3 # Números decimales (reales). Almacena el numero flotante 15.3 (flotantes - float)"
   ]
  },
  {
   "cell_type": "markdown",
   "id": "c648194e",
   "metadata": {
    "slideshow": {
     "slide_type": "slide"
    }
   },
   "source": [
    "# Variables: Tipos de datos"
   ]
  },
  {
   "cell_type": "markdown",
   "id": "6d502246",
   "metadata": {
    "colab_type": "text",
    "id": "BVwO3sH9GTFl",
    "slideshow": {
     "slide_type": "fragment"
    }
   },
   "source": [
    "## String\n",
    "\n",
    "Tipo `str` (strings) representando cadenas de caracteres."
   ]
  },
  {
   "cell_type": "code",
   "execution_count": null,
   "id": "d06baa9b",
   "metadata": {
    "slideshow": {
     "slide_type": "fragment"
    }
   },
   "outputs": [],
   "source": [
    "a3 = \"Este es un texto creado con comillas dobles\" # Strings. Almacena el texto indicado (strings - str)\n",
    "a4 = 'Este es un texto creado con comillas simples' # También es un string"
   ]
  },
  {
   "cell_type": "markdown",
   "id": "69fa6465",
   "metadata": {
    "colab_type": "text",
    "id": "_9C9wpsxGTC9",
    "slideshow": {
     "slide_type": "fragment"
    }
   },
   "source": [
    "## Valores Lógicos\n",
    "Tipo `bool` que representa el conjunto de valores de verdad (verdadero o falso)"
   ]
  },
  {
   "cell_type": "code",
   "execution_count": null,
   "id": "aaa2f6dc",
   "metadata": {
    "slideshow": {
     "slide_type": "fragment"
    }
   },
   "outputs": [],
   "source": [
    "a5 = True # Booleanos (valores de verdadero (True) y falso (False)). Almacena valor True. (booleanos - bool)"
   ]
  },
  {
   "cell_type": "markdown",
   "id": "2808ff25",
   "metadata": {
    "slideshow": {
     "slide_type": "slide"
    }
   },
   "source": [
    "# Variables: Tipos de datos"
   ]
  },
  {
   "cell_type": "markdown",
   "id": "4df1cedc",
   "metadata": {
    "colab_type": "text",
    "id": "_9C9wpsxGTC9",
    "slideshow": {
     "slide_type": "fragment"
    }
   },
   "source": [
    "## Números Complejos\n",
    "Tipo `complex` que representa el universo de números complejos."
   ]
  },
  {
   "cell_type": "code",
   "execution_count": null,
   "id": "ed7f3c54",
   "metadata": {
    "slideshow": {
     "slide_type": "fragment"
    }
   },
   "outputs": [],
   "source": [
    "a6 = 3.3 + 5.1j # Némeros complejos. Estos tiene una parte real y una parte imaginaria (acompañada de una j). (complejos - complex)"
   ]
  },
  {
   "cell_type": "code",
   "execution_count": null,
   "id": "0b7e63da",
   "metadata": {
    "slideshow": {
     "slide_type": "fragment"
    }
   },
   "outputs": [],
   "source": [
    "print(a1, a2, a3, a4, a5, a6) # Muestra los datos almacenados en todas las variables por la terminal"
   ]
  },
  {
   "cell_type": "markdown",
   "id": "59c0ad76",
   "metadata": {
    "colab_type": "text",
    "id": "NZuaGPTMGTFY",
    "slideshow": {
     "slide_type": "slide"
    }
   },
   "source": [
    "# Salida de datos: Print"
   ]
  },
  {
   "cell_type": "markdown",
   "id": "9bc0b183",
   "metadata": {
    "slideshow": {
     "slide_type": "fragment"
    }
   },
   "source": [
    "Quiero escribir por pantalla: \n",
    "\n",
    "    El valor de la variable a1 es <aquí va el valor de a1> y el valor de a2 es <aquí va el valor de a2>\n",
    "\n",
    "Ej:\n",
    "\n",
    "    El valor de la variable a1 es 10 y el valor de a2 es 15.3"
   ]
  },
  {
   "cell_type": "markdown",
   "id": "842f2639",
   "metadata": {
    "colab_type": "text",
    "id": "NZuaGPTMGTFY",
    "slideshow": {
     "slide_type": "slide"
    }
   },
   "source": [
    "# Salida de datos: Print"
   ]
  },
  {
   "cell_type": "code",
   "execution_count": null,
   "id": "5b6409b7",
   "metadata": {
    "slideshow": {
     "slide_type": "fragment"
    }
   },
   "outputs": [],
   "source": [
    "print(\"El valor de la variable a1 es\", a1, \"y el valor de la variable a2 es\", a2)\n",
    "print(\"El valor de la variable a1 es \" + str(a1) + \" y el valor de la variable a2 es \" + str(a2))\n",
    "print(\"El valor de la variable a1 es %d y el valor de la variable a2 es %f \" % (a1, a2))\n",
    "print(f\"El valor de la variable a1 es {a1} y el valor de la variable a2 es {a2}\")"
   ]
  },
  {
   "cell_type": "markdown",
   "id": "051b4bd0",
   "metadata": {
    "slideshow": {
     "slide_type": "slide"
    }
   },
   "source": [
    "# Tipos de datos compuestos: Listas"
   ]
  },
  {
   "cell_type": "markdown",
   "id": "7980aea7",
   "metadata": {
    "slideshow": {
     "slide_type": "fragment"
    }
   },
   "source": [
    "- Permite el almacenamiento de datos agrupados\n",
    "- Es un tipo de dato **mutable**"
   ]
  },
  {
   "cell_type": "markdown",
   "id": "10106b73",
   "metadata": {
    "slideshow": {
     "slide_type": "slide"
    }
   },
   "source": [
    "# Tipos de datos compuestos: Listas"
   ]
  },
  {
   "cell_type": "code",
   "execution_count": null,
   "id": "afdba487",
   "metadata": {
    "slideshow": {
     "slide_type": "fragment"
    }
   },
   "outputs": [],
   "source": [
    "lista1 = [1, 2, 3] # Es una lista cuyos elementos son todos enteros\n",
    "lista2 = [1, 9.5, \"Texto\", [1,4.5, \"prueba\"]]\n",
    "# Para acceder a los elementos de una lista, debes utilizar un índice. Ojo: Este parte en 0\n",
    "print(lista1[1]) # Con el índice 1 estamos accediendo al segundo elemento (porque los índices parten en 0)\n",
    "print(lista2[0])\n",
    "print(lista1) # Esto muestra todos los elementos de la lista1"
   ]
  },
  {
   "cell_type": "markdown",
   "id": "08d23f45",
   "metadata": {
    "slideshow": {
     "slide_type": "slide"
    }
   },
   "source": [
    "# Tipos de datos compuestos: Listas - operaciones"
   ]
  },
  {
   "cell_type": "code",
   "execution_count": null,
   "id": "3beb4843",
   "metadata": {
    "slideshow": {
     "slide_type": "fragment"
    }
   },
   "outputs": [],
   "source": [
    "# Cómo podemos modificar un elemento de mi lista?\n",
    "# Ejemplo, quiero modificar el primer elemento en lista1 para que, en vez de ser 1, sea \"Primer elemento\"\n",
    "lista1[0] = \"Primer elemento\" # Esto va a reemplazar el valor almacenado en lista1[0] por \"Primer elemento\"\n",
    "print(lista1)\n",
    "# Cómo accedo a los elementos de la lista interna a lista 2?\n",
    "# Ej, quiero acceder al tercer elemento -> \"prueba\"\n",
    "print(lista2[3][2])\n",
    "# Agregar elementos a una lista\n",
    "lista1.append(20)\n",
    "print(lista1)\n",
    "# Queremos ahora quitar ese elemento que agregamos\n",
    "lista_removed = lista1.pop(0)\n",
    "print(lista_removed, lista1)\n",
    "# Puedo acceder a más de un elemento a la vez de mi lista?\n",
    "lista3 = [1,2,3,4,5,6,7,8,9,10,11]\n",
    "print(lista3[2:6:2])\n",
    "# Quiero mostrar el último elemento\n",
    "print(lista3[::]) # Parto en el primer elemento, hasta el último elemento y avanazo de 1 en 1\n",
    "print(lista3[:2],lista3[-2:])\n",
    "# Cómo sabemos cuál es el largo de una lista?\n",
    "# Se utiliza la funcion len()\n",
    "print(len(lista3)) # Te indica el largo de la lista\n",
    "print(lista3[int(len(lista3)/2)]) # El elemento del medio es"
   ]
  },
  {
   "cell_type": "markdown",
   "id": "f4ac2f6e",
   "metadata": {
    "slideshow": {
     "slide_type": "slide"
    }
   },
   "source": [
    "# Tipos de datos compuestos: Tuplas"
   ]
  },
  {
   "cell_type": "markdown",
   "id": "3ad543c9",
   "metadata": {
    "slideshow": {
     "slide_type": "fragment"
    }
   },
   "source": [
    "- Permite el almacenamiento de datos agrupados.\n",
    "- Parecido a las listas, salvo que es un tipo de dato **inmutable**"
   ]
  },
  {
   "cell_type": "markdown",
   "id": "f30b3905",
   "metadata": {
    "slideshow": {
     "slide_type": "slide"
    }
   },
   "source": [
    "# Tipos de datos compuestos: Tuplas"
   ]
  },
  {
   "cell_type": "code",
   "execution_count": null,
   "id": "99adea17",
   "metadata": {
    "slideshow": {
     "slide_type": "fragment"
    }
   },
   "outputs": [],
   "source": [
    "tupla1 = ( 1, 2, 3, 4) # Esta es una tupla de elementos enteros\n",
    "print(tupla1[:3:2])"
   ]
  },
  {
   "cell_type": "markdown",
   "id": "bbf0de5b",
   "metadata": {
    "slideshow": {
     "slide_type": "slide"
    }
   },
   "source": [
    "# Tipos de datos compuestos: Tuplas - operaciones"
   ]
  },
  {
   "cell_type": "code",
   "execution_count": null,
   "id": "b30472eb",
   "metadata": {
    "slideshow": {
     "slide_type": "fragment"
    }
   },
   "outputs": [],
   "source": [
    "# La diferencia entre tuplas y listas es que los elementos de una tupla no se pueden modificar\n",
    "# tupla1[2] = 5 # Esto lanza error\n",
    "tupla2 = (1, \"hola\", [1,2,3])- Permite el almacenamiento de datos agrupados.\n",
    "- Parecido a las listas, salvo que es un tipo de dato **inmutable**\n",
    "print(tupla2)\n",
    "tupla2[2][1] = 10\n",
    "print(tupla2)\n",
    "#tupla2[2] = \"Este es un texto\" # Esto va a lanzar error\n",
    "tupla3 = tupla2[:2]\n",
    "print(tupla3)\n"
   ]
  },
  {
   "cell_type": "markdown",
   "id": "abc43e8e",
   "metadata": {
    "slideshow": {
     "slide_type": "slide"
    }
   },
   "source": [
    "# Tipos de datos compuestos: Diccionarios"
   ]
  },
  {
   "cell_type": "markdown",
   "id": "68d21349",
   "metadata": {
    "slideshow": {
     "slide_type": "fragment"
    }
   },
   "source": [
    "- Permite el almacenamiento de datos agrupados.\n",
    "- A diferencia de las listas o tuplas, este permite el acceso a sus elementos a través de **llaves**.\n",
    "- Los elementos almacenados son **mutables**, sin embargo, las llaves son elementos **inmutables**."
   ]
  },
  {
   "cell_type": "markdown",
   "id": "ad07a52e",
   "metadata": {
    "slideshow": {
     "slide_type": "slide"
    }
   },
   "source": [
    "# Tipos de datos compuestos: Diccionarios"
   ]
  },
  {
   "cell_type": "code",
   "execution_count": null,
   "id": "bf2bf1df",
   "metadata": {
    "slideshow": {
     "slide_type": "fragment"
    }
   },
   "outputs": [],
   "source": [
    "dict1 = {\n",
    "    0: \"Texto para indice 0\",\n",
    "    \"llave1\": \"Texto para la llave llave1\",\n",
    "    (1,2,3): \"Texto para la llave tupla (1,2,3)\"\n",
    "}"
   ]
  },
  {
   "cell_type": "markdown",
   "id": "549ced79",
   "metadata": {
    "slideshow": {
     "slide_type": "slide"
    }
   },
   "source": [
    "# Tipos de datos compuestos: Diccionarios - operaciones"
   ]
  },
  {
   "cell_type": "code",
   "execution_count": null,
   "id": "9a62ad49",
   "metadata": {
    "slideshow": {
     "slide_type": "fragment"
    }
   },
   "outputs": [],
   "source": [
    "\n",
    "dict1 = {\n",
    "    0: \"Texto para indice 0\",\n",
    "    \"llave1\": \"Texto para la llave llave1\",\n",
    "    (1,2,3): \"Texto para la llave tupla (1,2,3)\"\n",
    "}\n",
    "\n",
    "print(dict1[0]) # Estoy mostrando el contenido asociado a la llave 0 dentro de dict1\n",
    "print(dict1[\"llave1\"]) # Estoy mostrando el contenido asociado a la llave \"llave1\" dentro de dict1\n",
    "print(dict1[(1,2,3)]) # Estoy mostrando el contenido asociado a la llave (1,2,3) dentro de dict1\n",
    "\n",
    "personas = {\n",
    "    'Pedro': {\"edad\":30, \"estatura\":1.76, \"rut\":'11111111-1'},\n",
    "    'Juan': {\"edad\":28, \"estatura\":1.92, \"rut\":'22222222-2'},\n",
    "    'Maria': [41, 1.68, '33333333-3']\n",
    "}\n",
    "print(personas['Pedro']['estatura'])\n"
   ]
  },
  {
   "cell_type": "markdown",
   "id": "6344822c",
   "metadata": {
    "slideshow": {
     "slide_type": "slide"
    }
   },
   "source": [
    "# Determinando un tipo de dato: type()"
   ]
  },
  {
   "cell_type": "markdown",
   "id": "cd9a65c1",
   "metadata": {
    "slideshow": {
     "slide_type": "fragment"
    }
   },
   "source": [
    "- Se puede determinar el tipo de dato de una variable/dato utilizando la función type()"
   ]
  },
  {
   "cell_type": "code",
   "execution_count": null,
   "id": "02089bcb",
   "metadata": {
    "slideshow": {
     "slide_type": "fragment"
    }
   },
   "outputs": [],
   "source": [
    "a1 = 53 # Esta variable es de tipo entero porque se le asigno un entero (53)\n",
    "print(type(a1)) # type() Retorna cual es el tipo de dato asociado con la variable a1 para este ejemplo\n",
    "a1 = 13.1\n",
    "print(type(a1))"
   ]
  },
  {
   "cell_type": "markdown",
   "id": "1eb03ddb",
   "metadata": {
    "slideshow": {
     "slide_type": "slide"
    }
   },
   "source": [
    "# Estructuras de Control\n",
    "\n",
    "* En Python la ejecución es tı́picamente secuencial, implı́citamente definida por el orden de definición de sentencias. Para alterar esta secuencia, normalmente dos tipos de sentencias de control:\n",
    "    - Selección Condicional: múltiples alternativas de ejecución, controladas por una condición.\n",
    "    - Selección Iterativa o Cíclica: Ejecución repetitiva de un grupo de sentencias, también controladas por una condición."
   ]
  },
  {
   "cell_type": "markdown",
   "id": "1cd1c3df",
   "metadata": {
    "colab_type": "text",
    "id": "DZh9ZgNdJFNO",
    "slideshow": {
     "slide_type": "slide"
    }
   },
   "source": [
    "# Estructura Condicional: `if`"
   ]
  },
  {
   "cell_type": "markdown",
   "id": "fec49051",
   "metadata": {
    "slideshow": {
     "slide_type": "fragment"
    }
   },
   "source": [
    "* La instrucción `if` depende de un conjunto de condiciones, que son evaluadas en orden. La primera que sea verdadera determina qué instrucciones son ejecutadas.\n",
    "* Presenta las variantes: `if`, `if-else`, `if-elif` y `if-elif-else`"
   ]
  },
  {
   "cell_type": "markdown",
   "id": "9bc3283c",
   "metadata": {
    "colab_type": "text",
    "id": "DZh9ZgNdJFNO",
    "slideshow": {
     "slide_type": "slide"
    }
   },
   "source": [
    "# Estructura Condicional: `if`"
   ]
  },
  {
   "cell_type": "markdown",
   "id": "a2a95d74",
   "metadata": {
    "colab_type": "text",
    "id": "xFlehc_SJFNQ",
    "slideshow": {
     "slide_type": "fragment"
    }
   },
   "source": [
    "**Sintaxis:**\n",
    "```python\n",
    "if <cond1>: #obligatoria\n",
    "    sentencias a ejecutar si <cond1> es verdadera\n",
    "elif <cond2>: #opcional\n",
    "    sentencias a ejecutar si <cond2> es verdadera\n",
    "elif <cond3>: #opcional\n",
    "    sentencias a ejecutar si <cond3> es verdadera\n",
    "...\n",
    "else: #opcional\n",
    "    sentencias cuando ninguna condicion anterior es verdadera\n",
    "```\n",
    "\n",
    "La ***Indentación*** después de cada instrucción indica que cosas se realizarán si se cumple su respectiva condición (consecuentemente, si **no** se cumplen las condiciones anteriores). Se utiliza el **caracter de tabulación** (TAB, Tab, ↹)."
   ]
  },
  {
   "cell_type": "markdown",
   "id": "cd344b67",
   "metadata": {
    "colab_type": "text",
    "id": "DZh9ZgNdJFNO",
    "slideshow": {
     "slide_type": "slide"
    }
   },
   "source": [
    "# Estructura Condicional: `if`"
   ]
  },
  {
   "cell_type": "code",
   "execution_count": null,
   "id": "e7e7aa90",
   "metadata": {
    "slideshow": {
     "slide_type": "fragment"
    }
   },
   "outputs": [],
   "source": [
    "x = 11\n",
    "\n",
    "if x < 4:\n",
    "    print(\"El valor de x es menor que 4\")\n",
    "    print(\"Esta linea si se encuentra en el if\")\n",
    "elif x>1 and x<15: # elif es un else acompañado de un if abreviado\n",
    "    print(\"El valor de x es menor que 8\")\n",
    "elif x < 20: # Si no se cumplió la condición anterior, pregunto por esta nueva condición\n",
    "    print(\"El valor de x es menor que 20\") \n",
    "else: \n",
    "    print(\"El valor de x no cumple ninguna de las condiciones\")\n",
    "\n",
    "if x < 4:\n",
    "    print(\"El valor de x es menor que 4\")\n",
    "    print(\"Esta linea si se encuentra en el if\")\n",
    "if x>1 and x<15: # elif es un else acompañado de un if abreviado\n",
    "    print(\"El valor de x es menor que 8\")\n",
    "if x < 20: # Si no se cumplio la condición anterior, pregunto por esta nueva condicion\n",
    "    print(\"El valor de x es menor que 20\") "
   ]
  },
  {
   "cell_type": "markdown",
   "id": "be14bf59",
   "metadata": {
    "slideshow": {
     "slide_type": "slide"
    }
   },
   "source": [
    "# Estructura de Control: ```for```"
   ]
  },
  {
   "cell_type": "markdown",
   "id": "145bcc94",
   "metadata": {
    "slideshow": {
     "slide_type": "fragment"
    }
   },
   "source": [
    "- Repite sentencias, i.e., itera; una cantidad **fija** de veces.\n",
    "- Funciona sobre tipos de datos **iterables**, vale decir, **secuencias**."
   ]
  },
  {
   "cell_type": "markdown",
   "id": "598f3fad",
   "metadata": {
    "slideshow": {
     "slide_type": "slide"
    }
   },
   "source": [
    "# Estructura de Control: ```for```"
   ]
  },
  {
   "cell_type": "markdown",
   "id": "07a3882f",
   "metadata": {
    "slideshow": {
     "slide_type": "fragment"
    }
   },
   "source": [
    "**Sintáxis**\n",
    "\n",
    "```Python\n",
    "for variable in secuencia:\n",
    "    #instrucciones\n",
    "```\n",
    "\n",
    "- Cada vez que se utiliza un ciclo for, se define una variable que va a tomar cada uno de los valores de `secuencia`.\n",
    "- `secuencia` debe ser un tipo de dato **iterable**."
   ]
  },
  {
   "cell_type": "markdown",
   "id": "1d9ef66c",
   "metadata": {
    "slideshow": {
     "slide_type": "slide"
    }
   },
   "source": [
    "# Estructura de Control: ```for```"
   ]
  },
  {
   "cell_type": "code",
   "execution_count": null,
   "id": "c05d5bb1",
   "metadata": {
    "slideshow": {
     "slide_type": "fragment"
    }
   },
   "outputs": [],
   "source": [
    "lista5 = [4,2,8,6,3,4]\n",
    "\n",
    "for i in lista5: # Por cada elemento i pertenciente a la lista5, hago algo\n",
    "    print(\"Estoy iterando\")\n",
    "    print(i)\n",
    "\n",
    "# Otra forma de usar el for\n",
    "for i in range(0,len(lista5)):\n",
    "    print(f\"El valor del elemento {i} en lista5 es\", lista5[i])\n"
   ]
  },
  {
   "cell_type": "markdown",
   "id": "14eac859",
   "metadata": {
    "colab_type": "text",
    "id": "8F0jSoc0JFN1",
    "slideshow": {
     "slide_type": "slide"
    }
   },
   "source": [
    "# Estructura de Control: ```while```\n",
    "\n",
    "La instrucción `while` ejecuta una secuencia de instrucciones mientras una condición sea verdadera. "
   ]
  },
  {
   "cell_type": "markdown",
   "id": "9eb74c95",
   "metadata": {
    "slideshow": {
     "slide_type": "fragment"
    }
   },
   "source": [
    "**Sintáxis:**\n",
    "```python\n",
    "while <condición>: #obligatorio\n",
    "    # sentencias mientras la <condición> sea verdadera\n",
    "```"
   ]
  },
  {
   "cell_type": "markdown",
   "id": "b0f3eab9",
   "metadata": {
    "colab_type": "text",
    "id": "8F0jSoc0JFN1",
    "slideshow": {
     "slide_type": "slide"
    }
   },
   "source": [
    "# Estructura de Control: ```while```\n",
    "\n",
    "La instrucción `while` ejecuta una secuencia de instrucciones mientras una condición sea verdadera. "
   ]
  },
  {
   "cell_type": "code",
   "execution_count": null,
   "id": "7a7382c1",
   "metadata": {
    "slideshow": {
     "slide_type": "fragment"
    }
   },
   "outputs": [],
   "source": [
    "k=1\n",
    "while k<10:\n",
    "    if k%3 == 0: # Todos los números cuyo resto al dividirse por 3 sea cero, son múltiplos de 3\n",
    "        k+=1\n",
    "        print(\"Encontré un múltiplo de 3\")\n",
    "        continue\n",
    "\n",
    "    if k%4 == 0:\n",
    "        print(\"Encontré un múltiplo de 4\")\n",
    "        break\n",
    "    \n",
    "    print(\"El valor de k es:\", k)\n",
    "    k +=1\n",
    "print(\"Terminé la ejecución del while\")"
   ]
  }
 ],
 "metadata": {
  "celltoolbar": "Slideshow",
  "kernelspec": {
   "display_name": "Python 3 (ipykernel)",
   "language": "python",
   "name": "python3"
  },
  "language_info": {
   "codemirror_mode": {
    "name": "ipython",
    "version": 3
   },
   "file_extension": ".py",
   "mimetype": "text/x-python",
   "name": "python",
   "nbconvert_exporter": "python",
   "pygments_lexer": "ipython3",
   "version": "3.8.12"
  }
 },
 "nbformat": 4,
 "nbformat_minor": 5
}
