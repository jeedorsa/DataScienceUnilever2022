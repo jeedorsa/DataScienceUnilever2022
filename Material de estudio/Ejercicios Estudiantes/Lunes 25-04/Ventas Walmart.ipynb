{
 "cells": [
  {
   "cell_type": "markdown",
   "id": "administrative-combining",
   "metadata": {},
   "source": [
    "Introducción de la data:\n",
    "Este archivo contiene datos adicionales relacionados con la tienda, el departamento y\n",
    "la actividad regional para las fechas indicadas\n",
    "Preguntas:\n",
    "1. Hacer una limpieza de datos, fijarse cuales columnas tienen datos nulos y cuales\n",
    "podrían eliminarse o modificarse. Justifique todo lo que estime conveniente.\n",
    "2. Verificar que no existan datos duplicados.\n",
    "3. Transformar la columna de fecha en otras 3 que tengan año, mes y día. Luego de eso\n",
    "buscar alguna tendencia por mes, época, año y graficarla.\n",
    "4. Graficar un top 10 de tiendas según precio promedio del combustible.\n",
    "5. Graficar el precio del combustible y el del CPI para luego buscar si es que existe\n",
    "alguna secuencia, tendencia entre estas 2 columnas. ¿Cómo afecta?, ¿A mayor CPI\n",
    "se tiene menor precio?"
   ]
  },
  {
   "cell_type": "markdown",
   "id": "religious-violation",
   "metadata": {},
   "source": [
    "### Importamos libreria"
   ]
  },
  {
   "cell_type": "code",
   "execution_count": 40,
   "id": "artificial-gender",
   "metadata": {},
   "outputs": [
    {
     "name": "stdout",
     "output_type": "stream",
     "text": [
      "Pandas 1.3.4\n",
      "Numpy 1.20.3\n",
      "altair 4.2.0\n",
      "sbn 0.11.2\n",
      "Python 3.9.7 \n"
     ]
    }
   ],
   "source": [
    "import pandas as pd\n",
    "import matplotlib.pyplot as plt\n",
    "import numpy as np\n",
    "import altair as alt\n",
    "import seaborn as sbn\n",
    "import sys\n",
    "import altair_viewer\n",
    "\n",
    "print (\"Pandas\", pd.__version__)\n",
    "print (\"Numpy\", np.__version__)\n",
    "print (\"altair\", alt.__version__)\n",
    "print (\"sbn\", sbn.__version__)\n",
    "print (\"Python\", sys.version[:6])"
   ]
  },
  {
   "cell_type": "markdown",
   "id": "agricultural-buddy",
   "metadata": {},
   "source": [
    "### Carga de datos"
   ]
  },
  {
   "cell_type": "code",
   "execution_count": 41,
   "id": "authorized-drove",
   "metadata": {},
   "outputs": [
    {
     "data": {
      "text/html": [
       "<div>\n",
       "<style scoped>\n",
       "    .dataframe tbody tr th:only-of-type {\n",
       "        vertical-align: middle;\n",
       "    }\n",
       "\n",
       "    .dataframe tbody tr th {\n",
       "        vertical-align: top;\n",
       "    }\n",
       "\n",
       "    .dataframe thead th {\n",
       "        text-align: right;\n",
       "    }\n",
       "</style>\n",
       "<table border=\"1\" class=\"dataframe\">\n",
       "  <thead>\n",
       "    <tr style=\"text-align: right;\">\n",
       "      <th></th>\n",
       "      <th>Store</th>\n",
       "      <th>Date</th>\n",
       "      <th>Temperature</th>\n",
       "      <th>Fuel_Price</th>\n",
       "      <th>MarkDown1</th>\n",
       "      <th>MarkDown2</th>\n",
       "      <th>MarkDown3</th>\n",
       "      <th>MarkDown4</th>\n",
       "      <th>MarkDown5</th>\n",
       "      <th>CPI</th>\n",
       "      <th>Unemployment</th>\n",
       "      <th>IsHoliday</th>\n",
       "    </tr>\n",
       "  </thead>\n",
       "  <tbody>\n",
       "    <tr>\n",
       "      <th>0</th>\n",
       "      <td>1</td>\n",
       "      <td>2010-02-05</td>\n",
       "      <td>42.31</td>\n",
       "      <td>2.572</td>\n",
       "      <td>NaN</td>\n",
       "      <td>NaN</td>\n",
       "      <td>NaN</td>\n",
       "      <td>NaN</td>\n",
       "      <td>NaN</td>\n",
       "      <td>211.096358</td>\n",
       "      <td>8.106</td>\n",
       "      <td>False</td>\n",
       "    </tr>\n",
       "    <tr>\n",
       "      <th>1</th>\n",
       "      <td>1</td>\n",
       "      <td>2010-02-12</td>\n",
       "      <td>38.51</td>\n",
       "      <td>2.548</td>\n",
       "      <td>NaN</td>\n",
       "      <td>NaN</td>\n",
       "      <td>NaN</td>\n",
       "      <td>NaN</td>\n",
       "      <td>NaN</td>\n",
       "      <td>211.242170</td>\n",
       "      <td>8.106</td>\n",
       "      <td>True</td>\n",
       "    </tr>\n",
       "    <tr>\n",
       "      <th>2</th>\n",
       "      <td>1</td>\n",
       "      <td>2010-02-19</td>\n",
       "      <td>39.93</td>\n",
       "      <td>2.514</td>\n",
       "      <td>NaN</td>\n",
       "      <td>NaN</td>\n",
       "      <td>NaN</td>\n",
       "      <td>NaN</td>\n",
       "      <td>NaN</td>\n",
       "      <td>211.289143</td>\n",
       "      <td>8.106</td>\n",
       "      <td>False</td>\n",
       "    </tr>\n",
       "    <tr>\n",
       "      <th>3</th>\n",
       "      <td>1</td>\n",
       "      <td>2010-02-26</td>\n",
       "      <td>46.63</td>\n",
       "      <td>2.561</td>\n",
       "      <td>NaN</td>\n",
       "      <td>NaN</td>\n",
       "      <td>NaN</td>\n",
       "      <td>NaN</td>\n",
       "      <td>NaN</td>\n",
       "      <td>211.319643</td>\n",
       "      <td>8.106</td>\n",
       "      <td>False</td>\n",
       "    </tr>\n",
       "    <tr>\n",
       "      <th>4</th>\n",
       "      <td>1</td>\n",
       "      <td>2010-03-05</td>\n",
       "      <td>46.50</td>\n",
       "      <td>2.625</td>\n",
       "      <td>NaN</td>\n",
       "      <td>NaN</td>\n",
       "      <td>NaN</td>\n",
       "      <td>NaN</td>\n",
       "      <td>NaN</td>\n",
       "      <td>211.350143</td>\n",
       "      <td>8.106</td>\n",
       "      <td>False</td>\n",
       "    </tr>\n",
       "    <tr>\n",
       "      <th>...</th>\n",
       "      <td>...</td>\n",
       "      <td>...</td>\n",
       "      <td>...</td>\n",
       "      <td>...</td>\n",
       "      <td>...</td>\n",
       "      <td>...</td>\n",
       "      <td>...</td>\n",
       "      <td>...</td>\n",
       "      <td>...</td>\n",
       "      <td>...</td>\n",
       "      <td>...</td>\n",
       "      <td>...</td>\n",
       "    </tr>\n",
       "    <tr>\n",
       "      <th>8185</th>\n",
       "      <td>45</td>\n",
       "      <td>2013-06-28</td>\n",
       "      <td>76.05</td>\n",
       "      <td>3.639</td>\n",
       "      <td>4842.29</td>\n",
       "      <td>975.03</td>\n",
       "      <td>3.00</td>\n",
       "      <td>2449.97</td>\n",
       "      <td>3169.69</td>\n",
       "      <td>NaN</td>\n",
       "      <td>NaN</td>\n",
       "      <td>False</td>\n",
       "    </tr>\n",
       "    <tr>\n",
       "      <th>8186</th>\n",
       "      <td>45</td>\n",
       "      <td>2013-07-05</td>\n",
       "      <td>77.50</td>\n",
       "      <td>3.614</td>\n",
       "      <td>9090.48</td>\n",
       "      <td>2268.58</td>\n",
       "      <td>582.74</td>\n",
       "      <td>5797.47</td>\n",
       "      <td>1514.93</td>\n",
       "      <td>NaN</td>\n",
       "      <td>NaN</td>\n",
       "      <td>False</td>\n",
       "    </tr>\n",
       "    <tr>\n",
       "      <th>8187</th>\n",
       "      <td>45</td>\n",
       "      <td>2013-07-12</td>\n",
       "      <td>79.37</td>\n",
       "      <td>3.614</td>\n",
       "      <td>3789.94</td>\n",
       "      <td>1827.31</td>\n",
       "      <td>85.72</td>\n",
       "      <td>744.84</td>\n",
       "      <td>2150.36</td>\n",
       "      <td>NaN</td>\n",
       "      <td>NaN</td>\n",
       "      <td>False</td>\n",
       "    </tr>\n",
       "    <tr>\n",
       "      <th>8188</th>\n",
       "      <td>45</td>\n",
       "      <td>2013-07-19</td>\n",
       "      <td>82.84</td>\n",
       "      <td>3.737</td>\n",
       "      <td>2961.49</td>\n",
       "      <td>1047.07</td>\n",
       "      <td>204.19</td>\n",
       "      <td>363.00</td>\n",
       "      <td>1059.46</td>\n",
       "      <td>NaN</td>\n",
       "      <td>NaN</td>\n",
       "      <td>False</td>\n",
       "    </tr>\n",
       "    <tr>\n",
       "      <th>8189</th>\n",
       "      <td>45</td>\n",
       "      <td>2013-07-26</td>\n",
       "      <td>76.06</td>\n",
       "      <td>3.804</td>\n",
       "      <td>212.02</td>\n",
       "      <td>851.73</td>\n",
       "      <td>2.06</td>\n",
       "      <td>10.88</td>\n",
       "      <td>1864.57</td>\n",
       "      <td>NaN</td>\n",
       "      <td>NaN</td>\n",
       "      <td>False</td>\n",
       "    </tr>\n",
       "  </tbody>\n",
       "</table>\n",
       "<p>8190 rows × 12 columns</p>\n",
       "</div>"
      ],
      "text/plain": [
       "      Store        Date  Temperature  Fuel_Price  MarkDown1  MarkDown2  \\\n",
       "0         1  2010-02-05        42.31       2.572        NaN        NaN   \n",
       "1         1  2010-02-12        38.51       2.548        NaN        NaN   \n",
       "2         1  2010-02-19        39.93       2.514        NaN        NaN   \n",
       "3         1  2010-02-26        46.63       2.561        NaN        NaN   \n",
       "4         1  2010-03-05        46.50       2.625        NaN        NaN   \n",
       "...     ...         ...          ...         ...        ...        ...   \n",
       "8185     45  2013-06-28        76.05       3.639    4842.29     975.03   \n",
       "8186     45  2013-07-05        77.50       3.614    9090.48    2268.58   \n",
       "8187     45  2013-07-12        79.37       3.614    3789.94    1827.31   \n",
       "8188     45  2013-07-19        82.84       3.737    2961.49    1047.07   \n",
       "8189     45  2013-07-26        76.06       3.804     212.02     851.73   \n",
       "\n",
       "      MarkDown3  MarkDown4  MarkDown5         CPI  Unemployment  IsHoliday  \n",
       "0           NaN        NaN        NaN  211.096358         8.106      False  \n",
       "1           NaN        NaN        NaN  211.242170         8.106       True  \n",
       "2           NaN        NaN        NaN  211.289143         8.106      False  \n",
       "3           NaN        NaN        NaN  211.319643         8.106      False  \n",
       "4           NaN        NaN        NaN  211.350143         8.106      False  \n",
       "...         ...        ...        ...         ...           ...        ...  \n",
       "8185       3.00    2449.97    3169.69         NaN           NaN      False  \n",
       "8186     582.74    5797.47    1514.93         NaN           NaN      False  \n",
       "8187      85.72     744.84    2150.36         NaN           NaN      False  \n",
       "8188     204.19     363.00    1059.46         NaN           NaN      False  \n",
       "8189       2.06      10.88    1864.57         NaN           NaN      False  \n",
       "\n",
       "[8190 rows x 12 columns]"
      ]
     },
     "execution_count": 41,
     "metadata": {},
     "output_type": "execute_result"
    }
   ],
   "source": [
    "df=pd.read_csv(\"C:/Users/Cristofer/Downloads/features.csv\")\n",
    "df"
   ]
  },
  {
   "cell_type": "markdown",
   "id": "respective-million",
   "metadata": {},
   "source": [
    "# Parte 1: Pre- Tratamiento de los datos"
   ]
  },
  {
   "cell_type": "markdown",
   "id": "amber-nowhere",
   "metadata": {},
   "source": [
    "### Informaión de las columnas"
   ]
  },
  {
   "cell_type": "code",
   "execution_count": 42,
   "id": "molecular-arabic",
   "metadata": {},
   "outputs": [
    {
     "name": "stdout",
     "output_type": "stream",
     "text": [
      "<class 'pandas.core.frame.DataFrame'>\n",
      "RangeIndex: 8190 entries, 0 to 8189\n",
      "Data columns (total 12 columns):\n",
      " #   Column        Non-Null Count  Dtype  \n",
      "---  ------        --------------  -----  \n",
      " 0   Store         8190 non-null   int64  \n",
      " 1   Date          8190 non-null   object \n",
      " 2   Temperature   8190 non-null   float64\n",
      " 3   Fuel_Price    8190 non-null   float64\n",
      " 4   MarkDown1     4032 non-null   float64\n",
      " 5   MarkDown2     2921 non-null   float64\n",
      " 6   MarkDown3     3613 non-null   float64\n",
      " 7   MarkDown4     3464 non-null   float64\n",
      " 8   MarkDown5     4050 non-null   float64\n",
      " 9   CPI           7605 non-null   float64\n",
      " 10  Unemployment  7605 non-null   float64\n",
      " 11  IsHoliday     8190 non-null   bool   \n",
      "dtypes: bool(1), float64(9), int64(1), object(1)\n",
      "memory usage: 712.0+ KB\n"
     ]
    }
   ],
   "source": [
    "df.info()"
   ]
  },
  {
   "cell_type": "markdown",
   "id": "forced-premium",
   "metadata": {},
   "source": [
    "### Descripción de las variables numericas"
   ]
  },
  {
   "cell_type": "code",
   "execution_count": 43,
   "id": "accepting-tunnel",
   "metadata": {
    "scrolled": true
   },
   "outputs": [
    {
     "data": {
      "text/html": [
       "<div>\n",
       "<style scoped>\n",
       "    .dataframe tbody tr th:only-of-type {\n",
       "        vertical-align: middle;\n",
       "    }\n",
       "\n",
       "    .dataframe tbody tr th {\n",
       "        vertical-align: top;\n",
       "    }\n",
       "\n",
       "    .dataframe thead th {\n",
       "        text-align: right;\n",
       "    }\n",
       "</style>\n",
       "<table border=\"1\" class=\"dataframe\">\n",
       "  <thead>\n",
       "    <tr style=\"text-align: right;\">\n",
       "      <th></th>\n",
       "      <th>Store</th>\n",
       "      <th>Temperature</th>\n",
       "      <th>Fuel_Price</th>\n",
       "      <th>MarkDown1</th>\n",
       "      <th>MarkDown2</th>\n",
       "      <th>MarkDown3</th>\n",
       "      <th>MarkDown4</th>\n",
       "      <th>MarkDown5</th>\n",
       "      <th>CPI</th>\n",
       "      <th>Unemployment</th>\n",
       "    </tr>\n",
       "  </thead>\n",
       "  <tbody>\n",
       "    <tr>\n",
       "      <th>count</th>\n",
       "      <td>8190.000000</td>\n",
       "      <td>8190.000000</td>\n",
       "      <td>8190.000000</td>\n",
       "      <td>4032.000000</td>\n",
       "      <td>2921.000000</td>\n",
       "      <td>3613.000000</td>\n",
       "      <td>3464.000000</td>\n",
       "      <td>4050.000000</td>\n",
       "      <td>7605.000000</td>\n",
       "      <td>7605.000000</td>\n",
       "    </tr>\n",
       "    <tr>\n",
       "      <th>mean</th>\n",
       "      <td>23.000000</td>\n",
       "      <td>59.356198</td>\n",
       "      <td>3.405992</td>\n",
       "      <td>7032.371786</td>\n",
       "      <td>3384.176594</td>\n",
       "      <td>1760.100180</td>\n",
       "      <td>3292.935886</td>\n",
       "      <td>4132.216422</td>\n",
       "      <td>172.460809</td>\n",
       "      <td>7.826821</td>\n",
       "    </tr>\n",
       "    <tr>\n",
       "      <th>std</th>\n",
       "      <td>12.987966</td>\n",
       "      <td>18.678607</td>\n",
       "      <td>0.431337</td>\n",
       "      <td>9262.747448</td>\n",
       "      <td>8793.583016</td>\n",
       "      <td>11276.462208</td>\n",
       "      <td>6792.329861</td>\n",
       "      <td>13086.690278</td>\n",
       "      <td>39.738346</td>\n",
       "      <td>1.877259</td>\n",
       "    </tr>\n",
       "    <tr>\n",
       "      <th>min</th>\n",
       "      <td>1.000000</td>\n",
       "      <td>-7.290000</td>\n",
       "      <td>2.472000</td>\n",
       "      <td>-2781.450000</td>\n",
       "      <td>-265.760000</td>\n",
       "      <td>-179.260000</td>\n",
       "      <td>0.220000</td>\n",
       "      <td>-185.170000</td>\n",
       "      <td>126.064000</td>\n",
       "      <td>3.684000</td>\n",
       "    </tr>\n",
       "    <tr>\n",
       "      <th>25%</th>\n",
       "      <td>12.000000</td>\n",
       "      <td>45.902500</td>\n",
       "      <td>3.041000</td>\n",
       "      <td>1577.532500</td>\n",
       "      <td>68.880000</td>\n",
       "      <td>6.600000</td>\n",
       "      <td>304.687500</td>\n",
       "      <td>1440.827500</td>\n",
       "      <td>132.364839</td>\n",
       "      <td>6.634000</td>\n",
       "    </tr>\n",
       "    <tr>\n",
       "      <th>50%</th>\n",
       "      <td>23.000000</td>\n",
       "      <td>60.710000</td>\n",
       "      <td>3.513000</td>\n",
       "      <td>4743.580000</td>\n",
       "      <td>364.570000</td>\n",
       "      <td>36.260000</td>\n",
       "      <td>1176.425000</td>\n",
       "      <td>2727.135000</td>\n",
       "      <td>182.764003</td>\n",
       "      <td>7.806000</td>\n",
       "    </tr>\n",
       "    <tr>\n",
       "      <th>75%</th>\n",
       "      <td>34.000000</td>\n",
       "      <td>73.880000</td>\n",
       "      <td>3.743000</td>\n",
       "      <td>8923.310000</td>\n",
       "      <td>2153.350000</td>\n",
       "      <td>163.150000</td>\n",
       "      <td>3310.007500</td>\n",
       "      <td>4832.555000</td>\n",
       "      <td>213.932412</td>\n",
       "      <td>8.567000</td>\n",
       "    </tr>\n",
       "    <tr>\n",
       "      <th>max</th>\n",
       "      <td>45.000000</td>\n",
       "      <td>101.950000</td>\n",
       "      <td>4.468000</td>\n",
       "      <td>103184.980000</td>\n",
       "      <td>104519.540000</td>\n",
       "      <td>149483.310000</td>\n",
       "      <td>67474.850000</td>\n",
       "      <td>771448.100000</td>\n",
       "      <td>228.976456</td>\n",
       "      <td>14.313000</td>\n",
       "    </tr>\n",
       "  </tbody>\n",
       "</table>\n",
       "</div>"
      ],
      "text/plain": [
       "             Store  Temperature   Fuel_Price      MarkDown1      MarkDown2  \\\n",
       "count  8190.000000  8190.000000  8190.000000    4032.000000    2921.000000   \n",
       "mean     23.000000    59.356198     3.405992    7032.371786    3384.176594   \n",
       "std      12.987966    18.678607     0.431337    9262.747448    8793.583016   \n",
       "min       1.000000    -7.290000     2.472000   -2781.450000    -265.760000   \n",
       "25%      12.000000    45.902500     3.041000    1577.532500      68.880000   \n",
       "50%      23.000000    60.710000     3.513000    4743.580000     364.570000   \n",
       "75%      34.000000    73.880000     3.743000    8923.310000    2153.350000   \n",
       "max      45.000000   101.950000     4.468000  103184.980000  104519.540000   \n",
       "\n",
       "           MarkDown3     MarkDown4      MarkDown5          CPI  Unemployment  \n",
       "count    3613.000000   3464.000000    4050.000000  7605.000000   7605.000000  \n",
       "mean     1760.100180   3292.935886    4132.216422   172.460809      7.826821  \n",
       "std     11276.462208   6792.329861   13086.690278    39.738346      1.877259  \n",
       "min      -179.260000      0.220000    -185.170000   126.064000      3.684000  \n",
       "25%         6.600000    304.687500    1440.827500   132.364839      6.634000  \n",
       "50%        36.260000   1176.425000    2727.135000   182.764003      7.806000  \n",
       "75%       163.150000   3310.007500    4832.555000   213.932412      8.567000  \n",
       "max    149483.310000  67474.850000  771448.100000   228.976456     14.313000  "
      ]
     },
     "execution_count": 43,
     "metadata": {},
     "output_type": "execute_result"
    }
   ],
   "source": [
    "df.describe()"
   ]
  },
  {
   "cell_type": "markdown",
   "id": "average-assurance",
   "metadata": {},
   "source": [
    "### Columnas con valores nulos"
   ]
  },
  {
   "cell_type": "code",
   "execution_count": 45,
   "id": "identical-scroll",
   "metadata": {},
   "outputs": [
    {
     "data": {
      "text/plain": [
       "Store              0\n",
       "Date               0\n",
       "Temperature        0\n",
       "Fuel_Price         0\n",
       "MarkDown1       4158\n",
       "MarkDown2       5269\n",
       "MarkDown3       4577\n",
       "MarkDown4       4726\n",
       "MarkDown5       4140\n",
       "CPI              585\n",
       "Unemployment     585\n",
       "IsHoliday          0\n",
       "dtype: int64"
      ]
     },
     "execution_count": 45,
     "metadata": {},
     "output_type": "execute_result"
    }
   ],
   "source": [
    "df.isnull().sum()"
   ]
  },
  {
   "cell_type": "markdown",
   "id": "cathedral-legislation",
   "metadata": {},
   "source": [
    "# Parte 2: Tratamiento de los datos"
   ]
  },
  {
   "cell_type": "markdown",
   "id": "known-european",
   "metadata": {},
   "source": [
    "### valores nulos"
   ]
  },
  {
   "cell_type": "code",
   "execution_count": 44,
   "id": "geographic-musical",
   "metadata": {},
   "outputs": [
    {
     "data": {
      "text/plain": [
       "['MarkDown1',\n",
       " 'MarkDown2',\n",
       " 'MarkDown3',\n",
       " 'MarkDown4',\n",
       " 'MarkDown5',\n",
       " 'CPI',\n",
       " 'Unemployment']"
      ]
     },
     "execution_count": 44,
     "metadata": {},
     "output_type": "execute_result"
    }
   ],
   "source": [
    "df2=pd.DataFrame(df.isnull().sum())\n",
    "columna=list(df2[df2[0]>0].index)\n",
    "columna"
   ]
  },
  {
   "cell_type": "markdown",
   "id": "surgical-indicator",
   "metadata": {},
   "source": [
    "### Distribución de las variables con valores nulos"
   ]
  },
  {
   "cell_type": "code",
   "execution_count": 47,
   "id": "chronic-brighton",
   "metadata": {
    "scrolled": false
   },
   "outputs": [
    {
     "name": "stdout",
     "output_type": "stream",
     "text": [
      "Valores unicos 4024 Promedio 7032.371785714266 Media 4743.58\n"
     ]
    },
    {
     "data": {
      "image/png": "[encoded data removed]",
      "text/plain": [
       "<Figure size 432x288 with 1 Axes>"
      ]
     },
     "metadata": {
      "needs_background": "light"
     },
     "output_type": "display_data"
    },
    {
     "name": "stdout",
     "output_type": "stream",
     "text": [
      "Valores unicos 2716 Promedio 3384.176593632328 Media 364.57\n"
     ]
    },
    {
     "data": {
      "image/png": "[encoded data removed]",
      "text/plain": [
       "<Figure size 432x288 with 1 Axes>"
      ]
     },
     "metadata": {
      "needs_background": "light"
     },
     "output_type": "display_data"
    },
    {
     "name": "stdout",
     "output_type": "stream",
     "text": [
      "Valores unicos 2886 Promedio 1760.1001799058915 Media 36.26\n"
     ]
    },
    {
     "data": {
      "image/png": "[encoded data removed]",
      "text/plain": [
       "<Figure size 432x288 with 1 Axes>"
      ]
     },
     "metadata": {
      "needs_background": "light"
     },
     "output_type": "display_data"
    },
    {
     "name": "stdout",
     "output_type": "stream",
     "text": [
      "Valores unicos 3406 Promedio 3292.935886258671 Media 1176.425\n"
     ]
    },
    {
     "data": {
      "image/png": "[encoded data removed]",
      "text/plain": [
       "<Figure size 432x288 with 1 Axes>"
      ]
     },
     "metadata": {
      "needs_background": "light"
     },
     "output_type": "display_data"
    },
    {
     "name": "stdout",
     "output_type": "stream",
     "text": [
      "Valores unicos 4046 Promedio 4132.216422222234 Media 2727.135\n"
     ]
    },
    {
     "data": {
      "image/png": "[encoded data removed]",
      "text/plain": [
       "<Figure size 432x288 with 1 Axes>"
      ]
     },
     "metadata": {
      "needs_background": "light"
     },
     "output_type": "display_data"
    },
    {
     "name": "stdout",
     "output_type": "stream",
     "text": [
      "Valores unicos 2506 Promedio 172.46080918276078 Media 182.7640032\n"
     ]
    },
    {
     "data": {
      "image/png": "[encoded data removed]",
      "text/plain": [
       "<Figure size 432x288 with 1 Axes>"
      ]
     },
     "metadata": {
      "needs_background": "light"
     },
     "output_type": "display_data"
    },
    {
     "name": "stdout",
     "output_type": "stream",
     "text": [
      "Valores unicos 405 Promedio 7.826821038790305 Media 7.806\n"
     ]
    },
    {
     "data": {
      "image/png": "[encoded data removed]",
      "text/plain": [
       "<Figure size 432x288 with 1 Axes>"
      ]
     },
     "metadata": {
      "needs_background": "light"
     },
     "output_type": "display_data"
    }
   ],
   "source": [
    "for i in range (len(columna)):\n",
    "    print (\"Valores unicos\",len(df[columna[i]].unique()),\"Promedio\", df[columna[i]].mean(),\"Media\",df[columna[i]].median())\n",
    "    plt.hist(df[columna[i]])\n",
    "    plt.title(columna[i])\n",
    "    plt.show();"
   ]
  },
  {
   "cell_type": "markdown",
   "id": "reverse-visitor",
   "metadata": {},
   "source": [
    "### Reemplazo de valores nulos por la media"
   ]
  },
  {
   "cell_type": "code",
   "execution_count": 48,
   "id": "found-costume",
   "metadata": {},
   "outputs": [
    {
     "name": "stderr",
     "output_type": "stream",
     "text": [
      "C:\\Users\\Public\\Documents\\Wondershare\\CreatorTemp/ipykernel_15052/940746113.py:2: SettingWithCopyWarning: \n",
      "A value is trying to be set on a copy of a slice from a DataFrame\n",
      "\n",
      "See the caveats in the documentation: https://pandas.pydata.org/pandas-docs/stable/user_guide/indexing.html#returning-a-view-versus-a-copy\n",
      "  df[columna[i]][df[columna[i]].isnull()==True]=df[columna[i]].median()\n"
     ]
    }
   ],
   "source": [
    "for i in range(len(columna)):\n",
    "    df[columna[i]][df[columna[i]].isnull()==True]=df[columna[i]].median()\n",
    "    "
   ]
  },
  {
   "cell_type": "markdown",
   "id": "wanted-enzyme",
   "metadata": {},
   "source": [
    "### Verificación del procedimiento"
   ]
  },
  {
   "cell_type": "code",
   "execution_count": 53,
   "id": "derived-masters",
   "metadata": {},
   "outputs": [
    {
     "data": {
      "text/plain": [
       "Store           0\n",
       "Date            0\n",
       "Temperature     0\n",
       "Fuel_Price      0\n",
       "MarkDown1       0\n",
       "MarkDown2       0\n",
       "MarkDown3       0\n",
       "MarkDown4       0\n",
       "MarkDown5       0\n",
       "CPI             0\n",
       "Unemployment    0\n",
       "IsHoliday       0\n",
       "dtype: int64"
      ]
     },
     "execution_count": 53,
     "metadata": {},
     "output_type": "execute_result"
    }
   ],
   "source": [
    "df.isnull().sum()"
   ]
  },
  {
   "cell_type": "markdown",
   "id": "contained-syndicate",
   "metadata": {},
   "source": [
    "### Revisión de los valores duplicados \n",
    "\n",
    "**Conclusión**  \n",
    "No hay valores duplicados"
   ]
  },
  {
   "cell_type": "code",
   "execution_count": 57,
   "id": "wrong-celtic",
   "metadata": {
    "scrolled": false
   },
   "outputs": [
    {
     "name": "stdout",
     "output_type": "stream",
     "text": [
      "Actulamente tenemos 8190 Eliminado los datos duplicados, se elimina el: 0.0 %\n"
     ]
    },
    {
     "data": {
      "text/html": [
       "<div>\n",
       "<style scoped>\n",
       "    .dataframe tbody tr th:only-of-type {\n",
       "        vertical-align: middle;\n",
       "    }\n",
       "\n",
       "    .dataframe tbody tr th {\n",
       "        vertical-align: top;\n",
       "    }\n",
       "\n",
       "    .dataframe thead th {\n",
       "        text-align: right;\n",
       "    }\n",
       "</style>\n",
       "<table border=\"1\" class=\"dataframe\">\n",
       "  <thead>\n",
       "    <tr style=\"text-align: right;\">\n",
       "      <th></th>\n",
       "      <th>Store</th>\n",
       "      <th>Date</th>\n",
       "      <th>Temperature</th>\n",
       "      <th>Fuel_Price</th>\n",
       "      <th>MarkDown1</th>\n",
       "      <th>MarkDown2</th>\n",
       "      <th>MarkDown3</th>\n",
       "      <th>MarkDown4</th>\n",
       "      <th>MarkDown5</th>\n",
       "      <th>CPI</th>\n",
       "      <th>Unemployment</th>\n",
       "      <th>IsHoliday</th>\n",
       "    </tr>\n",
       "  </thead>\n",
       "  <tbody>\n",
       "    <tr>\n",
       "      <th>0</th>\n",
       "      <td>1</td>\n",
       "      <td>2010-02-05</td>\n",
       "      <td>42.31</td>\n",
       "      <td>2.572</td>\n",
       "      <td>4743.58</td>\n",
       "      <td>364.57</td>\n",
       "      <td>36.26</td>\n",
       "      <td>1176.425</td>\n",
       "      <td>2727.135</td>\n",
       "      <td>211.096358</td>\n",
       "      <td>8.106</td>\n",
       "      <td>False</td>\n",
       "    </tr>\n",
       "    <tr>\n",
       "      <th>1</th>\n",
       "      <td>1</td>\n",
       "      <td>2010-02-12</td>\n",
       "      <td>38.51</td>\n",
       "      <td>2.548</td>\n",
       "      <td>4743.58</td>\n",
       "      <td>364.57</td>\n",
       "      <td>36.26</td>\n",
       "      <td>1176.425</td>\n",
       "      <td>2727.135</td>\n",
       "      <td>211.242170</td>\n",
       "      <td>8.106</td>\n",
       "      <td>True</td>\n",
       "    </tr>\n",
       "    <tr>\n",
       "      <th>2</th>\n",
       "      <td>1</td>\n",
       "      <td>2010-02-19</td>\n",
       "      <td>39.93</td>\n",
       "      <td>2.514</td>\n",
       "      <td>4743.58</td>\n",
       "      <td>364.57</td>\n",
       "      <td>36.26</td>\n",
       "      <td>1176.425</td>\n",
       "      <td>2727.135</td>\n",
       "      <td>211.289143</td>\n",
       "      <td>8.106</td>\n",
       "      <td>False</td>\n",
       "    </tr>\n",
       "    <tr>\n",
       "      <th>3</th>\n",
       "      <td>1</td>\n",
       "      <td>2010-02-26</td>\n",
       "      <td>46.63</td>\n",
       "      <td>2.561</td>\n",
       "      <td>4743.58</td>\n",
       "      <td>364.57</td>\n",
       "      <td>36.26</td>\n",
       "      <td>1176.425</td>\n",
       "      <td>2727.135</td>\n",
       "      <td>211.319643</td>\n",
       "      <td>8.106</td>\n",
       "      <td>False</td>\n",
       "    </tr>\n",
       "    <tr>\n",
       "      <th>4</th>\n",
       "      <td>1</td>\n",
       "      <td>2010-03-05</td>\n",
       "      <td>46.50</td>\n",
       "      <td>2.625</td>\n",
       "      <td>4743.58</td>\n",
       "      <td>364.57</td>\n",
       "      <td>36.26</td>\n",
       "      <td>1176.425</td>\n",
       "      <td>2727.135</td>\n",
       "      <td>211.350143</td>\n",
       "      <td>8.106</td>\n",
       "      <td>False</td>\n",
       "    </tr>\n",
       "    <tr>\n",
       "      <th>...</th>\n",
       "      <td>...</td>\n",
       "      <td>...</td>\n",
       "      <td>...</td>\n",
       "      <td>...</td>\n",
       "      <td>...</td>\n",
       "      <td>...</td>\n",
       "      <td>...</td>\n",
       "      <td>...</td>\n",
       "      <td>...</td>\n",
       "      <td>...</td>\n",
       "      <td>...</td>\n",
       "      <td>...</td>\n",
       "    </tr>\n",
       "    <tr>\n",
       "      <th>8185</th>\n",
       "      <td>45</td>\n",
       "      <td>2013-06-28</td>\n",
       "      <td>76.05</td>\n",
       "      <td>3.639</td>\n",
       "      <td>4842.29</td>\n",
       "      <td>975.03</td>\n",
       "      <td>3.00</td>\n",
       "      <td>2449.970</td>\n",
       "      <td>3169.690</td>\n",
       "      <td>182.764003</td>\n",
       "      <td>7.806</td>\n",
       "      <td>False</td>\n",
       "    </tr>\n",
       "    <tr>\n",
       "      <th>8186</th>\n",
       "      <td>45</td>\n",
       "      <td>2013-07-05</td>\n",
       "      <td>77.50</td>\n",
       "      <td>3.614</td>\n",
       "      <td>9090.48</td>\n",
       "      <td>2268.58</td>\n",
       "      <td>582.74</td>\n",
       "      <td>5797.470</td>\n",
       "      <td>1514.930</td>\n",
       "      <td>182.764003</td>\n",
       "      <td>7.806</td>\n",
       "      <td>False</td>\n",
       "    </tr>\n",
       "    <tr>\n",
       "      <th>8187</th>\n",
       "      <td>45</td>\n",
       "      <td>2013-07-12</td>\n",
       "      <td>79.37</td>\n",
       "      <td>3.614</td>\n",
       "      <td>3789.94</td>\n",
       "      <td>1827.31</td>\n",
       "      <td>85.72</td>\n",
       "      <td>744.840</td>\n",
       "      <td>2150.360</td>\n",
       "      <td>182.764003</td>\n",
       "      <td>7.806</td>\n",
       "      <td>False</td>\n",
       "    </tr>\n",
       "    <tr>\n",
       "      <th>8188</th>\n",
       "      <td>45</td>\n",
       "      <td>2013-07-19</td>\n",
       "      <td>82.84</td>\n",
       "      <td>3.737</td>\n",
       "      <td>2961.49</td>\n",
       "      <td>1047.07</td>\n",
       "      <td>204.19</td>\n",
       "      <td>363.000</td>\n",
       "      <td>1059.460</td>\n",
       "      <td>182.764003</td>\n",
       "      <td>7.806</td>\n",
       "      <td>False</td>\n",
       "    </tr>\n",
       "    <tr>\n",
       "      <th>8189</th>\n",
       "      <td>45</td>\n",
       "      <td>2013-07-26</td>\n",
       "      <td>76.06</td>\n",
       "      <td>3.804</td>\n",
       "      <td>212.02</td>\n",
       "      <td>851.73</td>\n",
       "      <td>2.06</td>\n",
       "      <td>10.880</td>\n",
       "      <td>1864.570</td>\n",
       "      <td>182.764003</td>\n",
       "      <td>7.806</td>\n",
       "      <td>False</td>\n",
       "    </tr>\n",
       "  </tbody>\n",
       "</table>\n",
       "<p>8190 rows × 12 columns</p>\n",
       "</div>"
      ],
      "text/plain": [
       "      Store        Date  Temperature  Fuel_Price  MarkDown1  MarkDown2  \\\n",
       "0         1  2010-02-05        42.31       2.572    4743.58     364.57   \n",
       "1         1  2010-02-12        38.51       2.548    4743.58     364.57   \n",
       "2         1  2010-02-19        39.93       2.514    4743.58     364.57   \n",
       "3         1  2010-02-26        46.63       2.561    4743.58     364.57   \n",
       "4         1  2010-03-05        46.50       2.625    4743.58     364.57   \n",
       "...     ...         ...          ...         ...        ...        ...   \n",
       "8185     45  2013-06-28        76.05       3.639    4842.29     975.03   \n",
       "8186     45  2013-07-05        77.50       3.614    9090.48    2268.58   \n",
       "8187     45  2013-07-12        79.37       3.614    3789.94    1827.31   \n",
       "8188     45  2013-07-19        82.84       3.737    2961.49    1047.07   \n",
       "8189     45  2013-07-26        76.06       3.804     212.02     851.73   \n",
       "\n",
       "      MarkDown3  MarkDown4  MarkDown5         CPI  Unemployment  IsHoliday  \n",
       "0         36.26   1176.425   2727.135  211.096358         8.106      False  \n",
       "1         36.26   1176.425   2727.135  211.242170         8.106       True  \n",
       "2         36.26   1176.425   2727.135  211.289143         8.106      False  \n",
       "3         36.26   1176.425   2727.135  211.319643         8.106      False  \n",
       "4         36.26   1176.425   2727.135  211.350143         8.106      False  \n",
       "...         ...        ...        ...         ...           ...        ...  \n",
       "8185       3.00   2449.970   3169.690  182.764003         7.806      False  \n",
       "8186     582.74   5797.470   1514.930  182.764003         7.806      False  \n",
       "8187      85.72    744.840   2150.360  182.764003         7.806      False  \n",
       "8188     204.19    363.000   1059.460  182.764003         7.806      False  \n",
       "8189       2.06     10.880   1864.570  182.764003         7.806      False  \n",
       "\n",
       "[8190 rows x 12 columns]"
      ]
     },
     "execution_count": 57,
     "metadata": {},
     "output_type": "execute_result"
    }
   ],
   "source": [
    "print (\"Actulamente tenemos\", df.shape[0], \"Eliminado los datos duplicados, se elimina el:\",(df.shape[0]-df.drop_duplicates().shape[0])/df.shape[0],\"%\" )\n",
    "df.drop_duplicates()"
   ]
  },
  {
   "cell_type": "markdown",
   "id": "severe-retail",
   "metadata": {},
   "source": [
    "### Tranformación de la columna a fecha y creación de nuevas columnas"
   ]
  },
  {
   "cell_type": "code",
   "execution_count": 70,
   "id": "baking-bubble",
   "metadata": {},
   "outputs": [
    {
     "data": {
      "text/html": [
       "<div>\n",
       "<style scoped>\n",
       "    .dataframe tbody tr th:only-of-type {\n",
       "        vertical-align: middle;\n",
       "    }\n",
       "\n",
       "    .dataframe tbody tr th {\n",
       "        vertical-align: top;\n",
       "    }\n",
       "\n",
       "    .dataframe thead th {\n",
       "        text-align: right;\n",
       "    }\n",
       "</style>\n",
       "<table border=\"1\" class=\"dataframe\">\n",
       "  <thead>\n",
       "    <tr style=\"text-align: right;\">\n",
       "      <th></th>\n",
       "      <th>Store</th>\n",
       "      <th>Date</th>\n",
       "      <th>Temperature</th>\n",
       "      <th>Fuel_Price</th>\n",
       "      <th>MarkDown1</th>\n",
       "      <th>MarkDown2</th>\n",
       "      <th>MarkDown3</th>\n",
       "      <th>MarkDown4</th>\n",
       "      <th>MarkDown5</th>\n",
       "      <th>CPI</th>\n",
       "      <th>Unemployment</th>\n",
       "      <th>IsHoliday</th>\n",
       "      <th>Año</th>\n",
       "      <th>Mes</th>\n",
       "      <th>Dia</th>\n",
       "    </tr>\n",
       "  </thead>\n",
       "  <tbody>\n",
       "    <tr>\n",
       "      <th>0</th>\n",
       "      <td>1</td>\n",
       "      <td>2010-02-05</td>\n",
       "      <td>42.31</td>\n",
       "      <td>2.572</td>\n",
       "      <td>4743.58</td>\n",
       "      <td>364.57</td>\n",
       "      <td>36.26</td>\n",
       "      <td>1176.425</td>\n",
       "      <td>2727.135</td>\n",
       "      <td>211.096358</td>\n",
       "      <td>8.106</td>\n",
       "      <td>False</td>\n",
       "      <td>2010</td>\n",
       "      <td>2</td>\n",
       "      <td>5</td>\n",
       "    </tr>\n",
       "    <tr>\n",
       "      <th>1</th>\n",
       "      <td>1</td>\n",
       "      <td>2010-02-12</td>\n",
       "      <td>38.51</td>\n",
       "      <td>2.548</td>\n",
       "      <td>4743.58</td>\n",
       "      <td>364.57</td>\n",
       "      <td>36.26</td>\n",
       "      <td>1176.425</td>\n",
       "      <td>2727.135</td>\n",
       "      <td>211.242170</td>\n",
       "      <td>8.106</td>\n",
       "      <td>True</td>\n",
       "      <td>2010</td>\n",
       "      <td>2</td>\n",
       "      <td>12</td>\n",
       "    </tr>\n",
       "    <tr>\n",
       "      <th>2</th>\n",
       "      <td>1</td>\n",
       "      <td>2010-02-19</td>\n",
       "      <td>39.93</td>\n",
       "      <td>2.514</td>\n",
       "      <td>4743.58</td>\n",
       "      <td>364.57</td>\n",
       "      <td>36.26</td>\n",
       "      <td>1176.425</td>\n",
       "      <td>2727.135</td>\n",
       "      <td>211.289143</td>\n",
       "      <td>8.106</td>\n",
       "      <td>False</td>\n",
       "      <td>2010</td>\n",
       "      <td>2</td>\n",
       "      <td>19</td>\n",
       "    </tr>\n",
       "  </tbody>\n",
       "</table>\n",
       "</div>"
      ],
      "text/plain": [
       "   Store       Date  Temperature  Fuel_Price  MarkDown1  MarkDown2  MarkDown3  \\\n",
       "0      1 2010-02-05        42.31       2.572    4743.58     364.57      36.26   \n",
       "1      1 2010-02-12        38.51       2.548    4743.58     364.57      36.26   \n",
       "2      1 2010-02-19        39.93       2.514    4743.58     364.57      36.26   \n",
       "\n",
       "   MarkDown4  MarkDown5         CPI  Unemployment  IsHoliday   Año  Mes  Dia  \n",
       "0   1176.425   2727.135  211.096358         8.106      False  2010    2    5  \n",
       "1   1176.425   2727.135  211.242170         8.106       True  2010    2   12  \n",
       "2   1176.425   2727.135  211.289143         8.106      False  2010    2   19  "
      ]
     },
     "execution_count": 70,
     "metadata": {},
     "output_type": "execute_result"
    }
   ],
   "source": [
    "df[\"Date\"]=pd.to_datetime(df[\"Date\"], format=\"%Y-%m-%d\")\n",
    "df[\"Año\"]=df[\"Date\"].apply(lambda x: x.year)\n",
    "df[\"Mes\"]=df[\"Date\"].apply(lambda x: x.month)\n",
    "df[\"Dia\"]=df[\"Date\"].apply(lambda x: x.day)\n",
    "df.head(3)"
   ]
  },
  {
   "cell_type": "markdown",
   "id": "going-kinase",
   "metadata": {},
   "source": [
    "# Parte 3: Visualización"
   ]
  },
  {
   "cell_type": "markdown",
   "id": "suffering-junior",
   "metadata": {},
   "source": [
    "### Grafico de CPI por año"
   ]
  },
  {
   "cell_type": "code",
   "execution_count": 190,
   "id": "alleged-secretariat",
   "metadata": {},
   "outputs": [
    {
     "name": "stderr",
     "output_type": "stream",
     "text": [
      "C:\\Users\\Cristofer\\anaconda3\\lib\\site-packages\\seaborn\\_decorators.py:36: FutureWarning: Pass the following variables as keyword args: x, y. From version 0.12, the only valid positional argument will be `data`, and passing other arguments without an explicit keyword will result in an error or misinterpretation.\n",
      "  warnings.warn(\n"
     ]
    },
    {
     "data": {
      "image/png": "[encoded data removed]",
      "text/plain": [
       "<Figure size 432x288 with 1 Axes>"
      ]
     },
     "metadata": {
      "needs_background": "light"
     },
     "output_type": "display_data"
    }
   ],
   "source": [
    "ano=list(pd.DataFrame(df.groupby(\"Año\").sum()[\"CPI\"]).index)\n",
    "cpi=list(pd.DataFrame(df.groupby(\"Año\").sum()[\"CPI\"])[\"CPI\"])\n",
    "sbn.barplot(ano,cpi,palette=\"Set2_r\");\n",
    "plt.title(\"CPI por año\")\n",
    "plt.show();"
   ]
  },
  {
   "cell_type": "markdown",
   "id": "headed-album",
   "metadata": {},
   "source": [
    "### Grafico por mes"
   ]
  },
  {
   "cell_type": "code",
   "execution_count": 192,
   "id": "greatest-compression",
   "metadata": {},
   "outputs": [
    {
     "name": "stderr",
     "output_type": "stream",
     "text": [
      "C:\\Users\\Cristofer\\anaconda3\\lib\\site-packages\\seaborn\\_decorators.py:36: FutureWarning: Pass the following variables as keyword args: x, y. From version 0.12, the only valid positional argument will be `data`, and passing other arguments without an explicit keyword will result in an error or misinterpretation.\n",
      "  warnings.warn(\n"
     ]
    },
    {
     "data": {
      "image/png": "[encoded data removed]",
      "text/plain": [
       "<Figure size 432x288 with 1 Axes>"
      ]
     },
     "metadata": {
      "needs_background": "light"
     },
     "output_type": "display_data"
    }
   ],
   "source": [
    "ano=list(pd.DataFrame(df.groupby(\"Mes\").sum()[\"CPI\"]).index)\n",
    "cpi=list(pd.DataFrame(df.groupby(\"Mes\").sum()[\"CPI\"])[\"CPI\"])\n",
    "sbn.barplot(ano,cpi, palette=\"Set2_r\");\n",
    "plt.title(\"CPI por mes\")\n",
    "plt.show();"
   ]
  },
  {
   "cell_type": "markdown",
   "id": "improving-contact",
   "metadata": {},
   "source": [
    "### Grafico por dia"
   ]
  },
  {
   "cell_type": "code",
   "execution_count": 115,
   "id": "turned-numbers",
   "metadata": {},
   "outputs": [
    {
     "name": "stderr",
     "output_type": "stream",
     "text": [
      "C:\\Users\\Cristofer\\anaconda3\\lib\\site-packages\\seaborn\\_decorators.py:36: FutureWarning: Pass the following variables as keyword args: x, y. From version 0.12, the only valid positional argument will be `data`, and passing other arguments without an explicit keyword will result in an error or misinterpretation.\n",
      "  warnings.warn(\n"
     ]
    },
    {
     "data": {
      "image/png": "[encoded data removed]",
      "text/plain": [
       "<Figure size 432x288 with 1 Axes>"
      ]
     },
     "metadata": {
      "needs_background": "light"
     },
     "output_type": "display_data"
    }
   ],
   "source": [
    "ano=list(pd.DataFrame(df.groupby(\"Dia\").sum()[\"CPI\"]).index)\n",
    "cpi=list(pd.DataFrame(df.groupby(\"Dia\").sum()[\"CPI\"])[\"CPI\"])\n",
    "sbn.barplot(ano,cpi, palette=\"Set2_r\");\n",
    "plt.xticks(rotation=60);\n",
    "plt.title(\"CPI por dia\")\n",
    "plt.show();"
   ]
  },
  {
   "cell_type": "markdown",
   "id": "unusual-prophet",
   "metadata": {},
   "source": [
    "### CPI por año"
   ]
  },
  {
   "cell_type": "code",
   "execution_count": 251,
   "id": "accessory-future",
   "metadata": {},
   "outputs": [
    {
     "data": {
      "text/html": [
       "\n",
       "<div id=\"altair-viz-fda3d1dd0fff45b6ae75df6af4a5a8be\"></div>\n",
       "<script type=\"text/javascript\">\n",
       "  var VEGA_DEBUG = (typeof VEGA_DEBUG == \"undefined\") ? {} : VEGA_DEBUG;\n",
       "  (function(spec, embedOpt){\n",
       "    let outputDiv = document.currentScript.previousElementSibling;\n",
       "    if (outputDiv.id !== \"altair-viz-fda3d1dd0fff45b6ae75df6af4a5a8be\") {\n",
       "      outputDiv = document.getElementById(\"altair-viz-fda3d1dd0fff45b6ae75df6af4a5a8be\");\n",
       "    }\n",
       "    const paths = {\n",
       "      \"vega\": \"https://cdn.jsdelivr.net/npm//vega@5?noext\",\n",
       "      \"vega-lib\": \"https://cdn.jsdelivr.net/npm//vega-lib?noext\",\n",
       "      \"vega-lite\": \"https://cdn.jsdelivr.net/npm//vega-lite@4.17.0?noext\",\n",
       "      \"vega-embed\": \"https://cdn.jsdelivr.net/npm//vega-embed@6?noext\",\n",
       "    };\n",
       "\n",
       "    function maybeLoadScript(lib, version) {\n",
       "      var key = `${lib.replace(\"-\", \"\")}_version`;\n",
       "      return (VEGA_DEBUG[key] == version) ?\n",
       "        Promise.resolve(paths[lib]) :\n",
       "        new Promise(function(resolve, reject) {\n",
       "          var s = document.createElement('script');\n",
       "          document.getElementsByTagName(\"head\")[0].appendChild(s);\n",
       "          s.async = true;\n",
       "          s.onload = () => {\n",
       "            VEGA_DEBUG[key] = version;\n",
       "            return resolve(paths[lib]);\n",
       "          };\n",
       "          s.onerror = () => reject(`Error loading script: ${paths[lib]}`);\n",
       "          s.src = paths[lib];\n",
       "        });\n",
       "    }\n",
       "\n",
       "    function showError(err) {\n",
       "      outputDiv.innerHTML = `<div class=\"error\" style=\"color:red;\">${err}</div>`;\n",
       "      throw err;\n",
       "    }\n",
       "\n",
       "    function displayChart(vegaEmbed) {\n",
       "      vegaEmbed(outputDiv, spec, embedOpt)\n",
       "        .catch(err => showError(`Javascript Error: ${err.message}<br>This usually means there's a typo in your chart specification. See the javascript console for the full traceback.`));\n",
       "    }\n",
       "\n",
       "    if(typeof define === \"function\" && define.amd) {\n",
       "      requirejs.config({paths});\n",
       "      require([\"vega-embed\"], displayChart, err => showError(`Error loading script: ${err.message}`));\n",
       "    } else {\n",
       "      maybeLoadScript(\"vega\", \"5\")\n",
       "        .then(() => maybeLoadScript(\"vega-lite\", \"4.17.0\"))\n",
       "        .then(() => maybeLoadScript(\"vega-embed\", \"6\"))\n",
       "        .catch(showError)\n",
       "        .then(() => displayChart(vegaEmbed));\n",
       "    }\n",
       "  })({\"config\": {\"view\": {\"continuousWidth\": 400, \"continuousHeight\": 300}}, \"layer\": [{\"mark\": \"line\", \"encoding\": {\"tooltip\": [{\"field\": \"Date\", \"type\": \"temporal\"}, {\"field\": \"CPI\", \"type\": \"quantitative\"}], \"x\": {\"axis\": {\"title\": \"fecha\"}, \"field\": \"Date\", \"type\": \"temporal\"}, \"y\": {\"axis\": {\"title\": \"CPI\"}, \"field\": \"CPI\", \"scale\": {\"domain\": [7000, 9000]}, \"sort\": {\"field\": \"CPI\", \"order\": \"descending\"}, \"type\": \"quantitative\"}}}, {\"mark\": \"point\", \"encoding\": {\"opacity\": {\"value\": 0}, \"x\": {\"field\": \"Date\", \"type\": \"temporal\"}}, \"selection\": {\"selector094\": {\"type\": \"single\", \"nearest\": true, \"on\": \"mouseover\", \"fields\": [\"Date\"], \"empty\": \"none\"}}}, {\"mark\": \"point\", \"encoding\": {\"opacity\": {\"condition\": {\"value\": 1, \"selection\": \"selector094\"}, \"value\": 0}, \"tooltip\": [{\"field\": \"Date\", \"type\": \"temporal\"}, {\"field\": \"CPI\", \"type\": \"quantitative\"}], \"x\": {\"axis\": {\"title\": \"fecha\"}, \"field\": \"Date\", \"type\": \"temporal\"}, \"y\": {\"axis\": {\"title\": \"CPI\"}, \"field\": \"CPI\", \"scale\": {\"domain\": [7000, 9000]}, \"sort\": {\"field\": \"CPI\", \"order\": \"descending\"}, \"type\": \"quantitative\"}}}, {\"mark\": {\"type\": \"rule\", \"color\": \"black\"}, \"encoding\": {\"x\": {\"field\": \"Date\", \"type\": \"nominal\"}}, \"transform\": [{\"filter\": {\"selection\": \"selector094\"}}]}, {\"mark\": {\"type\": \"text\", \"align\": \"right\", \"dx\": 5, \"dy\": -25}, \"encoding\": {\"text\": {\"condition\": {\"field\": \"CPI\", \"type\": \"quantitative\", \"selection\": \"selector094\"}, \"value\": \" \"}, \"tooltip\": [{\"field\": \"Date\", \"type\": \"temporal\"}, {\"field\": \"CPI\", \"type\": \"quantitative\"}], \"x\": {\"axis\": {\"title\": \"fecha\"}, \"field\": \"Date\", \"type\": \"temporal\"}, \"y\": {\"axis\": {\"title\": \"CPI\"}, \"field\": \"CPI\", \"scale\": {\"domain\": [7000, 9000]}, \"sort\": {\"field\": \"CPI\", \"order\": \"descending\"}, \"type\": \"quantitative\"}}}], \"data\": {\"name\": \"data-3e2fc4a534daaa7f5e7ac790f58bad89\"}, \"height\": 300, \"title\": \"CPI por tiempo\", \"width\": 600, \"$schema\": \"https://vega.github.io/schema/vega-lite/v4.17.0.json\", \"datasets\": {\"data-3e2fc4a534daaa7f5e7ac790f58bad89\": [{\"Date\": \"2010-02-05T00:00:00\", \"CPI\": 7547.8898223}, {\"Date\": \"2010-02-12T00:00:00\", \"CPI\": 7552.1523543}, {\"Date\": \"2010-02-19T00:00:00\", \"CPI\": 7554.2258747}, {\"Date\": \"2010-02-26T00:00:00\", \"CPI\": 7555.9345592}, {\"Date\": \"2010-03-05T00:00:00\", \"CPI\": 7557.6432448}, {\"Date\": \"2010-03-12T00:00:00\", \"CPI\": 7559.3519303}, {\"Date\": \"2010-03-19T00:00:00\", \"CPI\": 7556.8692046}, {\"Date\": \"2010-03-26T00:00:00\", \"CPI\": 7553.6879087}, {\"Date\": \"2010-04-02T00:00:00\", \"CPI\": 7550.5066142}, {\"Date\": \"2010-04-09T00:00:00\", \"CPI\": 7547.3253191}, {\"Date\": \"2010-04-16T00:00:00\", \"CPI\": 7544.836834199999}, {\"Date\": \"2010-04-23T00:00:00\", \"CPI\": 7543.2720956}, {\"Date\": \"2010-04-30T00:00:00\", \"CPI\": 7541.7073572}, {\"Date\": \"2010-05-07T00:00:00\", \"CPI\": 7540.1426191}, {\"Date\": \"2010-05-14T00:00:00\", \"CPI\": 7539.5918108}, {\"Date\": \"2010-05-21T00:00:00\", \"CPI\": 7545.1245831}, {\"Date\": \"2010-05-28T00:00:00\", \"CPI\": 7550.6573553}, {\"Date\": \"2010-06-04T00:00:00\", \"CPI\": 7556.1901282}, {\"Date\": \"2010-06-11T00:00:00\", \"CPI\": 7561.7229005}, {\"Date\": \"2010-06-18T00:00:00\", \"CPI\": 7562.2223395}, {\"Date\": \"2010-06-25T00:00:00\", \"CPI\": 7560.708444}, {\"Date\": \"2010-07-02T00:00:00\", \"CPI\": 7559.194549}, {\"Date\": \"2010-07-09T00:00:00\", \"CPI\": 7557.6806535000005}, {\"Date\": \"2010-07-16T00:00:00\", \"CPI\": 7558.1201194}, {\"Date\": \"2010-07-23T00:00:00\", \"CPI\": 7561.1640652}, {\"Date\": \"2010-07-30T00:00:00\", \"CPI\": 7564.2080124}, {\"Date\": \"2010-08-06T00:00:00\", \"CPI\": 7567.2519591}, {\"Date\": \"2010-08-13T00:00:00\", \"CPI\": 7570.295906}, {\"Date\": \"2010-08-20T00:00:00\", \"CPI\": 7570.2958399}, {\"Date\": \"2010-08-27T00:00:00\", \"CPI\": 7570.2957729}, {\"Date\": \"2010-09-03T00:00:00\", \"CPI\": 7570.2957067}, {\"Date\": \"2010-09-10T00:00:00\", \"CPI\": 7570.2956394}, {\"Date\": \"2010-09-17T00:00:00\", \"CPI\": 7571.554763}, {\"Date\": \"2010-09-24T00:00:00\", \"CPI\": 7573.758275300001}, {\"Date\": \"2010-10-01T00:00:00\", \"CPI\": 7575.9617899}, {\"Date\": \"2010-10-08T00:00:00\", \"CPI\": 7578.1653047}, {\"Date\": \"2010-10-15T00:00:00\", \"CPI\": 7580.3859164}, {\"Date\": \"2010-10-22T00:00:00\", \"CPI\": 7582.6492788000005}, {\"Date\": \"2010-10-29T00:00:00\", \"CPI\": 7584.9126401}, {\"Date\": \"2010-11-05T00:00:00\", \"CPI\": 7587.1760003}, {\"Date\": \"2010-11-12T00:00:00\", \"CPI\": 7589.4393622}, {\"Date\": \"2010-11-19T00:00:00\", \"CPI\": 7587.2749049}, {\"Date\": \"2010-11-26T00:00:00\", \"CPI\": 7584.372478}, {\"Date\": \"2010-12-03T00:00:00\", \"CPI\": 7581.4700508000005}, {\"Date\": \"2010-12-10T00:00:00\", \"CPI\": 7578.5676232000005}, {\"Date\": \"2010-12-17T00:00:00\", \"CPI\": 7578.6966936}, {\"Date\": \"2010-12-24T00:00:00\", \"CPI\": 7581.0993851}, {\"Date\": \"2010-12-31T00:00:00\", \"CPI\": 7583.5020786000005}, {\"Date\": \"2011-01-07T00:00:00\", \"CPI\": 7585.9047709999995}, {\"Date\": \"2011-01-14T00:00:00\", \"CPI\": 7589.3279636}, {\"Date\": \"2011-01-21T00:00:00\", \"CPI\": 7598.8741546}, {\"Date\": \"2011-01-28T00:00:00\", \"CPI\": 7608.4203455}, {\"Date\": \"2011-02-04T00:00:00\", \"CPI\": 7617.9665364}, {\"Date\": \"2011-02-11T00:00:00\", \"CPI\": 7627.5127278}, {\"Date\": \"2011-02-18T00:00:00\", \"CPI\": 7636.195092}, {\"Date\": \"2011-02-25T00:00:00\", \"CPI\": 7644.531925}, {\"Date\": \"2011-03-04T00:00:00\", \"CPI\": 7652.8687583}, {\"Date\": \"2011-03-11T00:00:00\", \"CPI\": 7661.205591}, {\"Date\": \"2011-03-18T00:00:00\", \"CPI\": 7668.6023479}, {\"Date\": \"2011-03-25T00:00:00\", \"CPI\": 7675.6230757}, {\"Date\": \"2011-04-01T00:00:00\", \"CPI\": 7682.6438042}, {\"Date\": \"2011-04-08T00:00:00\", \"CPI\": 7689.6645319}, {\"Date\": \"2011-04-15T00:00:00\", \"CPI\": 7696.0745002}, {\"Date\": \"2011-04-22T00:00:00\", \"CPI\": 7700.9575746}, {\"Date\": \"2011-04-29T00:00:00\", \"CPI\": 7705.8406492}, {\"Date\": \"2011-05-06T00:00:00\", \"CPI\": 7710.7237233000005}, {\"Date\": \"2011-05-13T00:00:00\", \"CPI\": 7715.6067978}, {\"Date\": \"2011-05-20T00:00:00\", \"CPI\": 7712.3785269}, {\"Date\": \"2011-05-27T00:00:00\", \"CPI\": 7709.1502566}, {\"Date\": \"2011-06-03T00:00:00\", \"CPI\": 7705.921987}, {\"Date\": \"2011-06-10T00:00:00\", \"CPI\": 7702.6937165}, {\"Date\": \"2011-06-17T00:00:00\", \"CPI\": 7703.866185}, {\"Date\": \"2011-06-24T00:00:00\", \"CPI\": 7708.3392087}, {\"Date\": \"2011-07-01T00:00:00\", \"CPI\": 7712.8122317}, {\"Date\": \"2011-07-08T00:00:00\", \"CPI\": 7717.2852552}, {\"Date\": \"2011-07-15T00:00:00\", \"CPI\": 7721.3900573}, {\"Date\": \"2011-07-22T00:00:00\", \"CPI\": 7724.5743081}, {\"Date\": \"2011-07-29T00:00:00\", \"CPI\": 7727.758558699999}, {\"Date\": \"2011-08-05T00:00:00\", \"CPI\": 7730.942809}, {\"Date\": \"2011-08-12T00:00:00\", \"CPI\": 7734.1270581}, {\"Date\": \"2011-08-19T00:00:00\", \"CPI\": 7736.7407439}, {\"Date\": \"2011-08-26T00:00:00\", \"CPI\": 7739.2593373}, {\"Date\": \"2011-09-02T00:00:00\", \"CPI\": 7741.7779284}, {\"Date\": \"2011-09-09T00:00:00\", \"CPI\": 7744.2965199}, {\"Date\": \"2011-09-16T00:00:00\", \"CPI\": 7749.1279733}, {\"Date\": \"2011-09-23T00:00:00\", \"CPI\": 7757.0432414}, {\"Date\": \"2011-09-30T00:00:00\", \"CPI\": 7764.958509}, {\"Date\": \"2011-10-07T00:00:00\", \"CPI\": 7772.873777}, {\"Date\": \"2011-10-14T00:00:00\", \"CPI\": 7780.1536649}, {\"Date\": \"2011-10-21T00:00:00\", \"CPI\": 7783.621268100001}, {\"Date\": \"2011-10-28T00:00:00\", \"CPI\": 7787.0888715}, {\"Date\": \"2011-11-04T00:00:00\", \"CPI\": 7790.5564751}, {\"Date\": \"2011-11-11T00:00:00\", \"CPI\": 7794.0240806}, {\"Date\": \"2011-11-18T00:00:00\", \"CPI\": 7798.521138}, {\"Date\": \"2011-11-25T00:00:00\", \"CPI\": 7803.4299782}, {\"Date\": \"2011-12-02T00:00:00\", \"CPI\": 7808.3388181}, {\"Date\": \"2011-12-09T00:00:00\", \"CPI\": 7813.2476583}, {\"Date\": \"2011-12-16T00:00:00\", \"CPI\": 7818.4499339}, {\"Date\": \"2011-12-23T00:00:00\", \"CPI\": 7824.0434575}, {\"Date\": \"2011-12-30T00:00:00\", \"CPI\": 7829.636982}, {\"Date\": \"2012-01-06T00:00:00\", \"CPI\": 7835.2305035}, {\"Date\": \"2012-01-13T00:00:00\", \"CPI\": 7840.8240276999995}, {\"Date\": \"2012-01-20T00:00:00\", \"CPI\": 7844.3158721}, {\"Date\": \"2012-01-27T00:00:00\", \"CPI\": 7847.8077151}, {\"Date\": \"2012-02-03T00:00:00\", \"CPI\": 7851.299559}, {\"Date\": \"2012-02-10T00:00:00\", \"CPI\": 7854.7914023}, {\"Date\": \"2012-02-17T00:00:00\", \"CPI\": 7859.6575216}, {\"Date\": \"2012-02-24T00:00:00\", \"CPI\": 7865.5543482}, {\"Date\": \"2012-03-02T00:00:00\", \"CPI\": 7871.4511752}, {\"Date\": \"2012-03-09T00:00:00\", \"CPI\": 7877.3480011}, {\"Date\": \"2012-03-16T00:00:00\", \"CPI\": 7882.307170399999}, {\"Date\": \"2012-03-23T00:00:00\", \"CPI\": 7886.0161324}, {\"Date\": \"2012-03-30T00:00:00\", \"CPI\": 7889.7250926}, {\"Date\": \"2012-04-06T00:00:00\", \"CPI\": 7893.4340543}, {\"Date\": \"2012-04-13T00:00:00\", \"CPI\": 7897.1430151}, {\"Date\": \"2012-04-20T00:00:00\", \"CPI\": 7898.6538808000005}, {\"Date\": \"2012-04-27T00:00:00\", \"CPI\": 7900.1647465999995}, {\"Date\": \"2012-05-04T00:00:00\", \"CPI\": 7901.6756119}, {\"Date\": \"2012-05-11T00:00:00\", \"CPI\": 7903.1864778}, {\"Date\": \"2012-05-18T00:00:00\", \"CPI\": 7903.2300784}, {\"Date\": \"2012-05-25T00:00:00\", \"CPI\": 7902.6867724}, {\"Date\": \"2012-06-01T00:00:00\", \"CPI\": 7902.143467100001}, {\"Date\": \"2012-06-08T00:00:00\", \"CPI\": 7901.600161}, {\"Date\": \"2012-06-15T00:00:00\", \"CPI\": 7901.4690821}, {\"Date\": \"2012-06-22T00:00:00\", \"CPI\": 7902.3685731000005}, {\"Date\": \"2012-06-29T00:00:00\", \"CPI\": 7903.2680644}, {\"Date\": \"2012-07-06T00:00:00\", \"CPI\": 7904.1675534}, {\"Date\": \"2012-07-13T00:00:00\", \"CPI\": 7905.0670442}, {\"Date\": \"2012-07-20T00:00:00\", \"CPI\": 7905.3085032}, {\"Date\": \"2012-07-27T00:00:00\", \"CPI\": 7905.5499628}, {\"Date\": \"2012-08-03T00:00:00\", \"CPI\": 7905.7914226}, {\"Date\": \"2012-08-10T00:00:00\", \"CPI\": 7906.0328825}, {\"Date\": \"2012-08-17T00:00:00\", \"CPI\": 7908.458716}, {\"Date\": \"2012-08-24T00:00:00\", \"CPI\": 7912.5228321}, {\"Date\": \"2012-08-31T00:00:00\", \"CPI\": 7916.5869465}, {\"Date\": \"2012-09-07T00:00:00\", \"CPI\": 7920.6510639}, {\"Date\": \"2012-09-14T00:00:00\", \"CPI\": 7924.9797152}, {\"Date\": \"2012-09-21T00:00:00\", \"CPI\": 7930.895582}, {\"Date\": \"2012-09-28T00:00:00\", \"CPI\": 7936.81145}, {\"Date\": \"2012-10-05T00:00:00\", \"CPI\": 7942.7273177}, {\"Date\": \"2012-10-12T00:00:00\", \"CPI\": 7948.6431849}, {\"Date\": \"2012-10-19T00:00:00\", \"CPI\": 7949.3675702}, {\"Date\": \"2012-10-26T00:00:00\", \"CPI\": 7949.2267102000005}, {\"Date\": \"2012-11-02T00:00:00\", \"CPI\": 7949.0858493000005}, {\"Date\": \"2012-11-09T00:00:00\", \"CPI\": 7948.9449882}, {\"Date\": \"2012-11-16T00:00:00\", \"CPI\": 7949.4822426}, {\"Date\": \"2012-11-23T00:00:00\", \"CPI\": 7950.9236529}, {\"Date\": \"2012-11-30T00:00:00\", \"CPI\": 7952.3650608}, {\"Date\": \"2012-12-07T00:00:00\", \"CPI\": 7953.8064702}, {\"Date\": \"2012-12-14T00:00:00\", \"CPI\": 7955.7510344}, {\"Date\": \"2012-12-21T00:00:00\", \"CPI\": 7960.7145283}, {\"Date\": \"2012-12-28T00:00:00\", \"CPI\": 7965.6780222}, {\"Date\": \"2013-01-04T00:00:00\", \"CPI\": 7970.641516000001}, {\"Date\": \"2013-01-11T00:00:00\", \"CPI\": 7975.6050106}, {\"Date\": \"2013-01-18T00:00:00\", \"CPI\": 7978.2751794999995}, {\"Date\": \"2013-01-25T00:00:00\", \"CPI\": 7980.0280179}, {\"Date\": \"2013-02-01T00:00:00\", \"CPI\": 7981.7808572}, {\"Date\": \"2013-02-08T00:00:00\", \"CPI\": 7983.5336949}, {\"Date\": \"2013-02-15T00:00:00\", \"CPI\": 7985.6964913}, {\"Date\": \"2013-02-22T00:00:00\", \"CPI\": 7988.8841779}, {\"Date\": \"2013-03-01T00:00:00\", \"CPI\": 7992.0718649}, {\"Date\": \"2013-03-08T00:00:00\", \"CPI\": 7995.2595519999995}, {\"Date\": \"2013-03-15T00:00:00\", \"CPI\": 7998.3394135}, {\"Date\": \"2013-03-22T00:00:00\", \"CPI\": 8001.1497086}, {\"Date\": \"2013-03-29T00:00:00\", \"CPI\": 8003.9600029}, {\"Date\": \"2013-04-05T00:00:00\", \"CPI\": 8006.770298699999}, {\"Date\": \"2013-04-12T00:00:00\", \"CPI\": 8009.5805944}, {\"Date\": \"2013-04-19T00:00:00\", \"CPI\": 8009.5805944}, {\"Date\": \"2013-04-26T00:00:00\", \"CPI\": 8009.5805944}, {\"Date\": \"2013-05-03T00:00:00\", \"CPI\": 8224.380143999999}, {\"Date\": \"2013-05-10T00:00:00\", \"CPI\": 8224.380143999999}, {\"Date\": \"2013-05-17T00:00:00\", \"CPI\": 8224.380143999999}, {\"Date\": \"2013-05-24T00:00:00\", \"CPI\": 8224.380143999999}, {\"Date\": \"2013-05-31T00:00:00\", \"CPI\": 8224.380143999999}, {\"Date\": \"2013-06-07T00:00:00\", \"CPI\": 8224.380143999999}, {\"Date\": \"2013-06-14T00:00:00\", \"CPI\": 8224.380143999999}, {\"Date\": \"2013-06-21T00:00:00\", \"CPI\": 8224.380143999999}, {\"Date\": \"2013-06-28T00:00:00\", \"CPI\": 8224.380143999999}, {\"Date\": \"2013-07-05T00:00:00\", \"CPI\": 8224.380143999999}, {\"Date\": \"2013-07-12T00:00:00\", \"CPI\": 8224.380143999999}, {\"Date\": \"2013-07-19T00:00:00\", \"CPI\": 8224.380143999999}, {\"Date\": \"2013-07-26T00:00:00\", \"CPI\": 8224.380143999999}]}}, {\"mode\": \"vega-lite\"});\n",
       "</script>"
      ],
      "text/plain": [
       "alt.LayerChart(...)"
      ]
     },
     "execution_count": 251,
     "metadata": {},
     "output_type": "execute_result"
    }
   ],
   "source": [
    "df3=pd.DataFrame(df.groupby([\"Date\"])[\"CPI\"].sum()).reset_index()\n",
    "df3\n",
    "nearest = alt.selection(type='single', nearest=True, on='mouseover',fields=[\"Date\"], empty='none')\n",
    "\n",
    "line = alt.Chart().mark_line().encode(alt.X(\"Date:T\", axis=alt.Axis(title='fecha')),\n",
    "    alt.Y('CPI:Q', axis=alt.Axis(title='CPI'), sort=alt.SortField(field=\"CPI\",order='descending'), \n",
    "          scale=alt.Scale(domain=[7000, 9000])),  tooltip=[\"Date\",\"CPI\"] ) #La leyenda es SIMBOL\n",
    "\n",
    "selectors = alt.Chart().mark_point().encode(x='Date:T',opacity=alt.value(0),).add_selection(nearest)\n",
    "\n",
    "points = line.mark_point().encode(\n",
    "    opacity=alt.condition(nearest, alt.value(1), alt.value(0)))\n",
    "\n",
    "text = line.mark_text(align='right', dx=5, dy=-25).encode(text=alt.condition(nearest, \"CPI\",alt.value(' '))\n",
    "                                                         )\n",
    "\n",
    "text1 = line.mark_text(align='right', dx=5, dy=-25).encode(text=alt.condition(nearest, \"Date\",alt.value(' '))\n",
    "                                                         )\n",
    "\n",
    "rules = alt.Chart().mark_rule(color='black').encode(x='Date:N',).transform_filter( nearest)\n",
    "\n",
    "stockChart = alt.layer(line, selectors,points, rules, text,\n",
    "                       data=df3, \n",
    "                       width=600, height=300,title='CPI por tiempo')\n",
    "#stockChart.save(\"grafico.png\")\n",
    "stockChart"
   ]
  },
  {
   "cell_type": "markdown",
   "id": "comic-platform",
   "metadata": {},
   "source": [
    "### Grafico del precio promedio del combustible por las 10 tienda mas alta"
   ]
  },
  {
   "cell_type": "code",
   "execution_count": 187,
   "id": "hearing-pastor",
   "metadata": {
    "scrolled": true
   },
   "outputs": [
    {
     "data": {
      "text/html": [
       "\n",
       "<div id=\"altair-viz-edb63038181445dd92e1b0eb274ce5fa\"></div>\n",
       "<script type=\"text/javascript\">\n",
       "  var VEGA_DEBUG = (typeof VEGA_DEBUG == \"undefined\") ? {} : VEGA_DEBUG;\n",
       "  (function(spec, embedOpt){\n",
       "    let outputDiv = document.currentScript.previousElementSibling;\n",
       "    if (outputDiv.id !== \"altair-viz-edb63038181445dd92e1b0eb274ce5fa\") {\n",
       "      outputDiv = document.getElementById(\"altair-viz-edb63038181445dd92e1b0eb274ce5fa\");\n",
       "    }\n",
       "    const paths = {\n",
       "      \"vega\": \"https://cdn.jsdelivr.net/npm//vega@5?noext\",\n",
       "      \"vega-lib\": \"https://cdn.jsdelivr.net/npm//vega-lib?noext\",\n",
       "      \"vega-lite\": \"https://cdn.jsdelivr.net/npm//vega-lite@4.17.0?noext\",\n",
       "      \"vega-embed\": \"https://cdn.jsdelivr.net/npm//vega-embed@6?noext\",\n",
       "    };\n",
       "\n",
       "    function maybeLoadScript(lib, version) {\n",
       "      var key = `${lib.replace(\"-\", \"\")}_version`;\n",
       "      return (VEGA_DEBUG[key] == version) ?\n",
       "        Promise.resolve(paths[lib]) :\n",
       "        new Promise(function(resolve, reject) {\n",
       "          var s = document.createElement('script');\n",
       "          document.getElementsByTagName(\"head\")[0].appendChild(s);\n",
       "          s.async = true;\n",
       "          s.onload = () => {\n",
       "            VEGA_DEBUG[key] = version;\n",
       "            return resolve(paths[lib]);\n",
       "          };\n",
       "          s.onerror = () => reject(`Error loading script: ${paths[lib]}`);\n",
       "          s.src = paths[lib];\n",
       "        });\n",
       "    }\n",
       "\n",
       "    function showError(err) {\n",
       "      outputDiv.innerHTML = `<div class=\"error\" style=\"color:red;\">${err}</div>`;\n",
       "      throw err;\n",
       "    }\n",
       "\n",
       "    function displayChart(vegaEmbed) {\n",
       "      vegaEmbed(outputDiv, spec, embedOpt)\n",
       "        .catch(err => showError(`Javascript Error: ${err.message}<br>This usually means there's a typo in your chart specification. See the javascript console for the full traceback.`));\n",
       "    }\n",
       "\n",
       "    if(typeof define === \"function\" && define.amd) {\n",
       "      requirejs.config({paths});\n",
       "      require([\"vega-embed\"], displayChart, err => showError(`Error loading script: ${err.message}`));\n",
       "    } else {\n",
       "      maybeLoadScript(\"vega\", \"5\")\n",
       "        .then(() => maybeLoadScript(\"vega-lite\", \"4.17.0\"))\n",
       "        .then(() => maybeLoadScript(\"vega-embed\", \"6\"))\n",
       "        .catch(showError)\n",
       "        .then(() => displayChart(vegaEmbed));\n",
       "    }\n",
       "  })({\"config\": {\"view\": {\"continuousWidth\": 400, \"continuousHeight\": 300}}, \"data\": {\"name\": \"data-d1568505b2684082bc74fc0d313851c3\"}, \"mark\": {\"type\": \"point\", \"color\": \"red\", \"size\": 120}, \"encoding\": {\"tooltip\": [{\"field\": \"Store\", \"type\": \"quantitative\"}, {\"field\": \"Fuel_Price\", \"type\": \"quantitative\"}], \"x\": {\"field\": \"Store\", \"type\": \"nominal\"}, \"y\": {\"field\": \"Fuel_Price\", \"scale\": {\"domain\": [3.5, 3.8]}, \"type\": \"quantitative\"}}, \"height\": 300, \"selection\": {\"selector052\": {\"type\": \"multi\"}}, \"title\": \"Precio promedio de combustible por top10 tienda\", \"width\": 500, \"$schema\": \"https://vega.github.io/schema/vega-lite/v4.17.0.json\", \"datasets\": {\"data-d1568505b2684082bc74fc0d313851c3\": [{\"level_0\": 0, \"index\": 0, \"Store\": 28, \"Fuel_Price\": 3.643653846153846}, {\"level_0\": 1, \"index\": 1, \"Store\": 38, \"Fuel_Price\": 3.643653846153846}, {\"level_0\": 2, \"index\": 2, \"Store\": 12, \"Fuel_Price\": 3.643653846153846}, {\"level_0\": 3, \"index\": 3, \"Store\": 19, \"Fuel_Price\": 3.643357142857143}, {\"level_0\": 4, \"index\": 4, \"Store\": 24, \"Fuel_Price\": 3.643357142857143}, {\"level_0\": 5, \"index\": 5, \"Store\": 15, \"Fuel_Price\": 3.643357142857143}, {\"level_0\": 6, \"index\": 6, \"Store\": 27, \"Fuel_Price\": 3.643357142857143}, {\"level_0\": 7, \"index\": 7, \"Store\": 10, \"Fuel_Price\": 3.6156483516483515}, {\"level_0\": 8, \"index\": 8, \"Store\": 33, \"Fuel_Price\": 3.6156483516483515}, {\"level_0\": 9, \"index\": 9, \"Store\": 42, \"Fuel_Price\": 3.6156483516483515}]}}, {\"mode\": \"vega-lite\"});\n",
       "</script>"
      ],
      "text/plain": [
       "alt.Chart(...)"
      ]
     },
     "execution_count": 187,
     "metadata": {},
     "output_type": "execute_result"
    }
   ],
   "source": [
    "#data=data.reset_index()\n",
    "data\n",
    "multi= alt.selection_multi()\n",
    "click = alt.selection_multi(encodings=['color'])\n",
    "chart =alt.Chart(data).mark_point(color=\"red\",size=120).encode(\n",
    "    x=alt.X('Store:N'),\n",
    "    y=alt.Y('Fuel_Price:Q', scale=alt.Scale(domain=[3.5, 3.8])),\n",
    "   tooltip=[\"Store\",\"Fuel_Price\"],\n",
    ").properties( selection=multi, width=500,height=300,title='Precio promedio de combustible por top10 tienda')\n",
    "chart"
   ]
  },
  {
   "cell_type": "markdown",
   "id": "green-bradley",
   "metadata": {},
   "source": [
    "### Grafico de relación entre el CPI y Precio combustible"
   ]
  },
  {
   "cell_type": "code",
   "execution_count": 268,
   "id": "comfortable-mainland",
   "metadata": {},
   "outputs": [
    {
     "name": "stderr",
     "output_type": "stream",
     "text": [
      "C:\\Users\\Cristofer\\anaconda3\\lib\\site-packages\\seaborn\\_decorators.py:36: FutureWarning: Pass the following variables as keyword args: x, y. From version 0.12, the only valid positional argument will be `data`, and passing other arguments without an explicit keyword will result in an error or misinterpretation.\n",
      "  warnings.warn(\n"
     ]
    },
    {
     "data": {
      "image/png": "[encoded data removed]",
      "text/plain": [
       "<Figure size 432x288 with 1 Axes>"
      ]
     },
     "metadata": {
      "needs_background": "light"
     },
     "output_type": "display_data"
    }
   ],
   "source": [
    "\n",
    "sbn.scatterplot(df[\"CPI\"],df[\"Fuel_Price\"]);\n",
    "plt.annotate(df.corr()[\"CPI\"].iloc[2],xy=(0.5,1),fontsize=110)\n",
    "plt.show()"
   ]
  },
  {
   "cell_type": "markdown",
   "id": "steady-blast",
   "metadata": {},
   "source": [
    "**Conclusión**  \n",
    "No existe relación aparente"
   ]
  },
  {
   "cell_type": "markdown",
   "id": "oriental-austin",
   "metadata": {},
   "source": [
    "### Correlación"
   ]
  },
  {
   "cell_type": "code",
   "execution_count": 255,
   "id": "mathematical-arthritis",
   "metadata": {},
   "outputs": [
    {
     "data": {
      "text/plain": [
       "-0.17422705621551357"
      ]
     },
     "execution_count": 255,
     "metadata": {},
     "output_type": "execute_result"
    }
   ],
   "source": [
    "df.corr()[\"CPI\"].iloc[2]"
   ]
  },
  {
   "cell_type": "code",
   "execution_count": 166,
   "id": "returning-blair",
   "metadata": {
    "scrolled": false
   },
   "outputs": [
    {
     "data": {
      "image/png": "[encoded data removed]",
      "text/plain": [
       "<Figure size 1152x1008 with 2 Axes>"
      ]
     },
     "metadata": {
      "needs_background": "light"
     },
     "output_type": "display_data"
    }
   ],
   "source": [
    "colormap = plt.cm.RdBu\n",
    "plt.figure(figsize=(16,14))\n",
    "plt.title('Correlación', y=1.05, size=25,)\n",
    "sbn.heatmap(df.corr(),linewidths=0.5,\n",
    "             cmap=colormap, linecolor='white', annot=True,fmt='.2f')\n",
    "plt.show()"
   ]
  },
  {
   "cell_type": "code",
   "execution_count": null,
   "id": "equivalent-investigation",
   "metadata": {},
   "outputs": [],
   "source": []
  }
 ],
 "metadata": {
  "kernelspec": {
   "display_name": "Python 3 (ipykernel)",
   "language": "python",
   "name": "python3"
  },
  "language_info": {
   "codemirror_mode": {
    "name": "ipython",
    "version": 3
   },
   "file_extension": ".py",
   "mimetype": "text/x-python",
   "name": "python",
   "nbconvert_exporter": "python",
   "pygments_lexer": "ipython3",
   "version": "3.9.7"
  }
 },
 "nbformat": 4,
 "nbformat_minor": 5
}
